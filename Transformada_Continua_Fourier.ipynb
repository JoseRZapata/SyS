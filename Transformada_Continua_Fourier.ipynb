{
 "cells": [
  {
   "cell_type": "markdown",
   "metadata": {},
   "source": [
    "# TRANSFORMADA CONTINUA DE FOURIER<a class=\"tocSkip\">\n",
    "## SISTEMAS Y SEÑALES <a class=\"tocSkip\">\n",
    "### Ingenieria de Telecomunicaciones <a class=\"tocSkip\">\n",
    "### Universidad Pontificia Bolivariana <a class=\"tocSkip\">   \n",
    "### Por: Jose R. Zapata - [https://joserzapata.github.io/](https://joserzapata.github.io/) <a class=\"tocSkip\">\n",
    "**joser.zapata@upb.edu.co**"
   ]
  },
  {
   "cell_type": "code",
   "execution_count": 1,
   "metadata": {},
   "outputs": [
    {
     "data": {
      "text/html": [
       "<script>\n",
       "  function code_toggle() {\n",
       "    if (code_shown){\n",
       "      $('div.input').hide('500');\n",
       "      $('#toggleButton').val('Ver el Codigo de Python')\n",
       "    } else {\n",
       "      $('div.input').show('500');\n",
       "      $('#toggleButton').val('Ocultar el Codigo')\n",
       "    }\n",
       "    code_shown = !code_shown\n",
       "  }\n",
       "\n",
       "  $( document ).ready(function(){\n",
       "    code_shown=false;\n",
       "    $('div.input').hide()\n",
       "  });\n",
       "</script>\n",
       "<form action=\"javascript:code_toggle()\">\n",
       "<input type=\"submit\" id=\"toggleButton\" value=\"Ver el Codigo de Python\"></form>"
      ],
      "text/plain": [
       "<IPython.core.display.HTML object>"
      ]
     },
     "execution_count": 1,
     "metadata": {},
     "output_type": "execute_result"
    }
   ],
   "source": [
    "# Script para ver y ocultar el codigo del jupyter\n",
    "from IPython.display import HTML\n",
    "\n",
    "HTML('''<script>\n",
    "  function code_toggle() {\n",
    "    if (code_shown){\n",
    "      $('div.input').hide('500');\n",
    "      $('#toggleButton').val('Ver el Codigo de Python')\n",
    "    } else {\n",
    "      $('div.input').show('500');\n",
    "      $('#toggleButton').val('Ocultar el Codigo')\n",
    "    }\n",
    "    code_shown = !code_shown\n",
    "  }\n",
    "\n",
    "  $( document ).ready(function(){\n",
    "    code_shown=false;\n",
    "    $('div.input').hide()\n",
    "  });\n",
    "</script>\n",
    "<form action=\"javascript:code_toggle()\">\n",
    "<input type=\"submit\" id=\"toggleButton\" value=\"Ver el Codigo de Python\"></form>''')"
   ]
  },
  {
   "cell_type": "markdown",
   "metadata": {
    "toc": true
   },
   "source": [
    "<h1>Contenido<span class=\"tocSkip\"></span></h1>\n",
    "<div class=\"toc\"><ul class=\"toc-item\"><li><span><a href=\"#Transformada-de-Fourier\" data-toc-modified-id=\"Transformada-de-Fourier-1\"><span class=\"toc-item-num\">1&nbsp;&nbsp;</span>Transformada de Fourier</a></span></li><li><span><a href=\"#Demostracion-de-la-Tranformada-de-Fourier-para-señales-Aperiodicas\" data-toc-modified-id=\"Demostracion-de-la-Tranformada-de-Fourier-para-señales-Aperiodicas-2\"><span class=\"toc-item-num\">2&nbsp;&nbsp;</span>Demostracion de la Tranformada de Fourier para señales Aperiodicas</a></span></li><li><span><a href=\"#Tranformadas-de-Fourier-de-Señales-Especiales\" data-toc-modified-id=\"Tranformadas-de-Fourier-de-Señales-Especiales-3\"><span class=\"toc-item-num\">3&nbsp;&nbsp;</span>Tranformadas de Fourier de Señales Especiales</a></span><ul class=\"toc-item\"><li><span><a href=\"#T.-Fourier-Impulso-de-Dirac\" data-toc-modified-id=\"T.-Fourier-Impulso-de-Dirac-3.1\"><span class=\"toc-item-num\">3.1&nbsp;&nbsp;</span>T. Fourier Impulso de Dirac</a></span></li><li><span><a href=\"#T.-Fourier-de-un-Pulso-Rectangular\" data-toc-modified-id=\"T.-Fourier-de-un-Pulso-Rectangular-3.2\"><span class=\"toc-item-num\">3.2&nbsp;&nbsp;</span>T. Fourier de un Pulso Rectangular</a></span></li><li><span><a href=\"#T.-Inversa-de-Fourier-de-un-Pulso-Rectangular\" data-toc-modified-id=\"T.-Inversa-de-Fourier-de-un-Pulso-Rectangular-3.3\"><span class=\"toc-item-num\">3.3&nbsp;&nbsp;</span>T. Inversa de Fourier de un Pulso Rectangular</a></span></li></ul></li><li><span><a href=\"#Convergencia\" data-toc-modified-id=\"Convergencia-4\"><span class=\"toc-item-num\">4&nbsp;&nbsp;</span>Convergencia</a></span></li><li><span><a href=\"#Transformada-de-Fourier-para-Señales-Periodicas\" data-toc-modified-id=\"Transformada-de-Fourier-para-Señales-Periodicas-5\"><span class=\"toc-item-num\">5&nbsp;&nbsp;</span>Transformada de Fourier para Señales Periodicas</a></span></li><li><span><a href=\"#Propiedades-de-la-Tranformada-de-Fourier\" data-toc-modified-id=\"Propiedades-de-la-Tranformada-de-Fourier-6\"><span class=\"toc-item-num\">6&nbsp;&nbsp;</span>Propiedades de la Tranformada de Fourier</a></span><ul class=\"toc-item\"><li><span><a href=\"#Linealidad\" data-toc-modified-id=\"Linealidad-6.1\"><span class=\"toc-item-num\">6.1&nbsp;&nbsp;</span>Linealidad</a></span></li><li><span><a href=\"#Desplazamiento-en-el-Tiempo\" data-toc-modified-id=\"Desplazamiento-en-el-Tiempo-6.2\"><span class=\"toc-item-num\">6.2&nbsp;&nbsp;</span>Desplazamiento en el Tiempo</a></span></li><li><span><a href=\"#Conjugacion-y-Simetria-Conjugada\" data-toc-modified-id=\"Conjugacion-y-Simetria-Conjugada-6.3\"><span class=\"toc-item-num\">6.3&nbsp;&nbsp;</span>Conjugacion y Simetria Conjugada</a></span></li><li><span><a href=\"#Diferenciacion-e-Integracion\" data-toc-modified-id=\"Diferenciacion-e-Integracion-6.4\"><span class=\"toc-item-num\">6.4&nbsp;&nbsp;</span>Diferenciacion e Integracion</a></span></li><li><span><a href=\"#Escalamiento-de-Tiempo-y-Frecuencia\" data-toc-modified-id=\"Escalamiento-de-Tiempo-y-Frecuencia-6.5\"><span class=\"toc-item-num\">6.5&nbsp;&nbsp;</span>Escalamiento de Tiempo y Frecuencia</a></span></li><li><span><a href=\"#Dualidad\" data-toc-modified-id=\"Dualidad-6.6\"><span class=\"toc-item-num\">6.6&nbsp;&nbsp;</span>Dualidad</a></span></li><li><span><a href=\"#Relacion-de-Parseval\" data-toc-modified-id=\"Relacion-de-Parseval-6.7\"><span class=\"toc-item-num\">6.7&nbsp;&nbsp;</span>Relacion de Parseval</a></span></li><li><span><a href=\"#Convolucion\" data-toc-modified-id=\"Convolucion-6.8\"><span class=\"toc-item-num\">6.8&nbsp;&nbsp;</span>Convolucion</a></span></li><li><span><a href=\"#Multiplicacion-o-Modulacion\" data-toc-modified-id=\"Multiplicacion-o-Modulacion-6.9\"><span class=\"toc-item-num\">6.9&nbsp;&nbsp;</span>Multiplicacion o Modulacion</a></span></li></ul></li><li><span><a href=\"#Sistemas-Caracterizados-por-Ecuaciones-Diferenciales-con-Coeficientes-Constantes\" data-toc-modified-id=\"Sistemas-Caracterizados-por-Ecuaciones-Diferenciales-con-Coeficientes-Constantes-7\"><span class=\"toc-item-num\">7&nbsp;&nbsp;</span>Sistemas Caracterizados por Ecuaciones Diferenciales con Coeficientes Constantes</a></span></li><li><span><a href=\"#REFERENCIAS\" data-toc-modified-id=\"REFERENCIAS-8\"><span class=\"toc-item-num\">8&nbsp;&nbsp;</span>REFERENCIAS</a></span></li></ul></div>"
   ]
  },
  {
   "cell_type": "markdown",
   "metadata": {},
   "source": [
    "# Transformada de Fourier\n",
    "La transformada de Fourier, denominada así por Joseph Fourier, es una transformación matemática empleada para transformar señales entre el dominio del tiempo (o espacial) y el dominio de la frecuencia, que tiene muchas aplicaciones en la física y la ingeniería.\n",
    "\n",
    "La transformada de Fourier es la generalizacion de la serie de Fourier para señales no periodicas, osea señales de energia finita, la representacion en frecuencia (Espectro de frecuencia) sera continuo osea que las exponenciales complejas estaran infinitesimalmente cercanas en frecuencia.\n",
    "\n",
    "Para obtener la Transformada de Fourier a partir de las series de Fourier, se define que una señal aperiodica es una señal periodica pero con periodo tendiendo a infinito $(T \\rightarrow \\infty)$\n",
    "\n",
    "En las series de Fourier se puede ver que si se aumenta  el periodo $(T)$ las componentes se hacen mas cercanas en frecuencia,  basandonos en la relacion del periodo y la frecuencia angular $\\large \\omega = \\frac{2 \\pi}{T}$, si se aumenta $T$ la frecuencia se vuleve mas pequeña, entonces las componentes de frecuencia se hacen mas cercanas.\n",
    "\n",
    "# Demostracion de la Tranformada de Fourier para señales Aperiodicas\n",
    "\n",
    "![periodica-aperiodica](./img/Series_transformada.png)\n",
    "\n",
    "\n",
    "$$\n",
    "\\large \\widetilde{x}(t)= \\sum_{k = - \\infty}^{+ \\infty}a_k e^{j k \\omega_0 t} \\\\\n",
    "\\large a_k = \\frac{1}{T}\\int_{-T_1}^{T_1} \\widetilde{x}(t)e^{-j k \\omega_0 t} \\mathbb{d}t\n",
    "$$\n",
    "\n",
    "$$\n",
    "\\large x(t) = \\widetilde{x}(t) \\qquad \\forall \\: t \\in [-T_1,T_1] \\rightarrow \\\\\n",
    "\\large a_k = \\frac{1}{T}\\int_{-T_1}^{T_1} x(t)e^{-j k \\omega_0 t} \\mathbb{d}t = \\frac{1}{T}\\int_{-\\infty}^{\\infty} x(t)e^{-j k \\omega_0 t} \\mathbb{d}t \n",
    "$$\n",
    "\n",
    "Definiendo la envolvente $\\large X(j\\omega) = T a_k$ entonces\n",
    "\n",
    "$$\n",
    "\\large X(j\\omega) = \\int_{-\\infty}^{\\infty} x(t)e^{-j \\omega t} \\mathbb{d}t \\\\ \\quad\\\\\n",
    "a_k = \\frac{X(jk\\omega_0)}{T}\n",
    "$$\n",
    "\n",
    "combinando\n",
    "\n",
    "$$\n",
    "\\large \\widetilde{x}(t)= \\sum_{k = - \\infty}^{+ \\infty} \\frac{X(jk\\omega_0)}{T} e^{j k \\omega_0 t} \\qquad \\omega_0 = \\frac{2 \\pi}{T} \\\\\n",
    "\\large \\widetilde{x}(t)= \\frac{1}{2 \\pi}\\sum_{k = - \\infty}^{+ \\infty}X(jk\\omega_0) e^{j k \\omega_0 t}\\omega_0\n",
    "$$\n",
    "Si  $\\large \\: T \\rightarrow \\infty \\:$ entonces\n",
    " $\\large \\: \\widetilde{x}(t) \\Rightarrow  x(t) \\:$ entonces $\\large \\omega_0 \\Rightarrow 0$\n",
    " \n",
    " Por lo tanto $\\large \\widetilde{x}(t)$ converge en una integral obteniendo la Transformada Inversa de Fourier, $x(t) = \\mathcal{F}^{-1} \\{ X(j \\omega) \\}$:\n",
    " \n",
    "$$\n",
    "\\large  \\boxed{x(t) = \\frac{1}{2 \\pi} \\int_{-\\infty}^{\\infty} X(j \\omega) \\, e^{j \\omega t} \\; \\mathbb{d}\\omega} \\\\\n",
    "$$\n",
    "Transformada de Fourier $X(j \\omega) = \\mathcal{F} \\{ x(t) \\}$ \n",
    "$$\n",
    " \\large \\boxed{X(j \\omega) = \\int_{-\\infty}^{+ \\infty} x(t) \\, e^{-j \\omega t} \\; \\mathbb{d}t}\n",
    "$$\n",
    "\n",
    "Donde $\\large X(j \\omega)$ es el Espectro de Frecuencia de $\\large x(t)$"
   ]
  },
  {
   "cell_type": "markdown",
   "metadata": {},
   "source": [
    "# Tranformadas de Fourier de Señales Especiales"
   ]
  },
  {
   "cell_type": "code",
   "execution_count": 2,
   "metadata": {},
   "outputs": [],
   "source": [
    "# Importar librerias basicas\n",
    "import numpy as np\n",
    "import matplotlib.pyplot as plt\n",
    "import sympy as sym\n",
    "\n",
    "%matplotlib inline\n",
    "plt.style.use('bmh') # estilo de las graficas\n",
    "from IPython.display import Latex # para visualizar ecuaciones en jupyter"
   ]
  },
  {
   "cell_type": "code",
   "execution_count": 3,
   "metadata": {},
   "outputs": [],
   "source": [
    "sym.init_printing()\n",
    "\n",
    "t, w = sym.symbols('t omega', real=True)\n",
    "\n",
    "def fourier_transform(x):\n",
    "    return sym.transforms._fourier_transform(x, t, w, 1, -1, 'Fourier')"
   ]
  },
  {
   "cell_type": "markdown",
   "metadata": {},
   "source": [
    "## T. Fourier Impulso de Dirac\n",
    "\n",
    "La transformación  $\\mathcal{F} \\{ \\delta(t) \\}$ del impulso de Dirac se deriva al introducir $\\delta(t)$ en La definición de la transformada de Fourier y la explotación de la propiedad de integracion de la función delta de Dirac.\n",
    "\n",
    "$$\n",
    "\\mathcal{F} \\{ \\delta(t) \\} = \\int_{-\\infty}^{\\infty} \\delta(t) \\, e^{-j \\omega t} dt = 1\n",
    "$$\n",
    " \n",
    "\n",
    "Utilizando el Modulo `sympy` se puede evaluar la integral o calcular la transformada de fourier de delta\n",
    "```python\n",
    "t, w = sym.symbols('t omega', real=True)\n",
    "\n",
    "X = sym.integrate(sym.DiracDelta(t)*sym.exp(-sym.I*w*t), (t, -sym.oo, sym.oo))\n",
    "```\n"
   ]
  },
  {
   "cell_type": "code",
   "execution_count": 4,
   "metadata": {},
   "outputs": [
    {
     "data": {
      "image/png": "[encoded data removed]",
      "text/latex": [
       "$\\displaystyle 1$"
      ],
      "text/plain": [
       "1"
      ]
     },
     "execution_count": 4,
     "metadata": {},
     "output_type": "execute_result"
    }
   ],
   "source": [
    "t, w = sym.symbols('t omega', real=True)\n",
    "\n",
    "X = sym.integrate(sym.DiracDelta(t)*sym.exp(-sym.I*w*t), (t, -sym.oo, sym.oo))\n",
    "X"
   ]
  },
  {
   "cell_type": "markdown",
   "metadata": {},
   "source": [
    "```python\n",
    "X = fourier_transform(sym.DiracDelta(t))\n",
    "```"
   ]
  },
  {
   "cell_type": "code",
   "execution_count": 5,
   "metadata": {},
   "outputs": [
    {
     "data": {
      "image/png": "[encoded data removed]",
      "text/latex": [
       "$\\displaystyle 1$"
      ],
      "text/plain": [
       "1"
      ]
     },
     "execution_count": 5,
     "metadata": {},
     "output_type": "execute_result"
    }
   ],
   "source": [
    "X = fourier_transform(sym.DiracDelta(t))\n",
    "X"
   ]
  },
  {
   "cell_type": "markdown",
   "metadata": {},
   "source": [
    "Lo que me indica que el espectro de frecuencia de un impulso de Dirac esta en todas las frecuencias con un valor de 1."
   ]
  },
  {
   "cell_type": "markdown",
   "metadata": {},
   "source": [
    "## T. Fourier de un Pulso Rectangular\n",
    "\n",
    "\n",
    "La transformación de Fourier $ \\mathcal{F} \\{\\text{rect}(t) \\}$ de la señal rectangular se obtiene mediante la evaluación explícita de la definición.\n",
    "\\begin{equation}\n",
    "\\mathcal{F} \\{ \\text{rect}(t) \\} = \\int_{-\\infty}^{\\infty} \\text{rect}(t) \\, e^{-j \\omega t} \\; dt =\n",
    "\\int_{- \\frac{1}{2}}^{\\frac{1}{2}} e^{-j \\omega t} \\; dt = \\frac{\\sin(\\frac{\\omega}{2})}{\\frac{\\omega}{2}}\n",
    "\\end{equation}\n",
    "\n",
    "El resultado se abrevia comúnmente en términos de [función sinc](https://en.wikipedia.org/wiki/Sinc_function)\n",
    "\n",
    "\\begin{equation}\n",
    "\\text{sinc}(x) = \\begin{cases} \n",
    "\\frac{sin(x)}{x} & \\text{for } x \\neq 0 \\\\\n",
    "1 & \\text{for } x = 0\n",
    "\\end{cases}\n",
    "\\end{equation}\n",
    "\n",
    "Tenga en cuenta que el valor en $ x = 0 $ se ha obtenido aplicando [la regla de L'Hôpital](https://es.wikipedia.org/wiki/Regla_de_l%27H%C3%B4pital) a $ \\frac{ sin(x)}{x} $. La función sinc es una función importante en el procesamiento de señales (digitales) y la ingeniería de comunicaciones. Muestra las siguientes propiedades\n",
    " \n",
    " 1. Su valor máximo es uno en $ x = 0 $\n",
    " \n",
    " 2. Su amplitud decae con $ \\frac{1}{| x |} $\n",
    " \n",
    " 3. Sus ceros se encuentran en $ x_0 = n \\cdot \\pi $ para $ n \\in \\mathcal{Z} \\setminus \\{0 \\} $\n",
    " 4. $\\int_{-\\infty}^{\\infty} \\text{sinc}(t) \\; dt = \\pi$\n",
    " \n",
    "\n"
   ]
  },
  {
   "cell_type": "code",
   "execution_count": 6,
   "metadata": {},
   "outputs": [],
   "source": [
    "class rect(sym.Function):\n",
    "\n",
    "    @classmethod\n",
    "    def eval(cls, arg):\n",
    "        return sym.Heaviside(arg + sym.S.Half) - sym.Heaviside(arg - sym.S.Half)"
   ]
  },
  {
   "cell_type": "code",
   "execution_count": 7,
   "metadata": {},
   "outputs": [
    {
     "data": {
      "text/latex": [
       "$x(t) = \\mu (t+0.5) - \\mu (t-0.5)$"
      ],
      "text/plain": [
       "<IPython.core.display.Latex object>"
      ]
     },
     "metadata": {},
     "output_type": "display_data"
    },
    {
     "data": {
      "image/png": "[encoded data removed]",
      "text/plain": [
       "<Figure size 432x288 with 1 Axes>"
      ]
     },
     "metadata": {
      "needs_background": "light"
     },
     "output_type": "display_data"
    }
   ],
   "source": [
    "display(Latex('$x(t) = \\mu (t+0.5) - \\mu (t-0.5)$'))\n",
    "sym.plot(rect(t), (t, -3, 3), xlabel=r'$t$', ylabel=r'$x(t)$');"
   ]
  },
  {
   "cell_type": "code",
   "execution_count": 8,
   "metadata": {},
   "outputs": [
    {
     "name": "stdout",
     "output_type": "stream",
     "text": [
      "La transformada de Fourier de x(t) sera:\n"
     ]
    },
    {
     "data": {
      "image/png": "[encoded data removed]",
      "text/latex": [
       "$\\displaystyle \\frac{2 \\sin{\\left(\\frac{\\omega}{2} \\right)}}{\\omega}$"
      ],
      "text/plain": [
       "     ⎛ω⎞\n",
       "2⋅sin⎜─⎟\n",
       "     ⎝2⎠\n",
       "────────\n",
       "   ω    "
      ]
     },
     "execution_count": 8,
     "metadata": {},
     "output_type": "execute_result"
    }
   ],
   "source": [
    "print('La transformada de Fourier de x(t) sera:')\n",
    "XW = fourier_transform(rect(t))\n",
    "XW"
   ]
  },
  {
   "cell_type": "markdown",
   "metadata": {},
   "source": [
    "Como la trasnformada de Fourier es solo Real entonces no es necesario graficar la Magnitud y la Fase por separado"
   ]
  },
  {
   "cell_type": "code",
   "execution_count": 9,
   "metadata": {},
   "outputs": [
    {
     "data": {
      "image/png": "[encoded data removed]",
      "text/plain": [
       "<Figure size 432x288 with 1 Axes>"
      ]
     },
     "metadata": {
      "needs_background": "light"
     },
     "output_type": "display_data"
    }
   ],
   "source": [
    "sym.plot(XW, (w, -30, 30), xlabel=r'$\\omega$', ylabel=r'sinc($\\omega / 2$)');"
   ]
  },
  {
   "cell_type": "markdown",
   "metadata": {},
   "source": [
    "El espectro de frecuencia de La señal pulso rectangular es va desde $-\\infty$ Hasta $+\\infty$ lo que indica que presenta fenomeno de Gibbs"
   ]
  },
  {
   "cell_type": "markdown",
   "metadata": {},
   "source": [
    "## T. Inversa de Fourier de un Pulso Rectangular"
   ]
  },
  {
   "cell_type": "code",
   "execution_count": 10,
   "metadata": {},
   "outputs": [],
   "source": [
    "def inverse_fourier_transform(X):\n",
    "    return sym.transforms._fourier_transform(X, w, t, 1/(2*sym.pi), 1, 'Inverse Fourier')"
   ]
  },
  {
   "cell_type": "code",
   "execution_count": 11,
   "metadata": {},
   "outputs": [
    {
     "data": {
      "image/png": "[encoded data removed]",
      "text/plain": [
       "<Figure size 432x288 with 1 Axes>"
      ]
     },
     "metadata": {
      "needs_background": "light"
     },
     "output_type": "display_data"
    }
   ],
   "source": [
    "t, w = sym.symbols('t omega')\n",
    "\n",
    "XW = sym.sinc(w/2)\n",
    "sym.plot(XW, (w, -30, 30), xlabel=r'$\\omega$', ylabel=r'sinc($\\omega / 2$)');"
   ]
  },
  {
   "cell_type": "code",
   "execution_count": 12,
   "metadata": {},
   "outputs": [
    {
     "data": {
      "image/png": "[encoded data removed]",
      "text/latex": [
       "$\\displaystyle \\begin{cases} 1 & \\text{for}\\: \\frac{\\left|{\\frac{1}{t^{2}}}\\right|}{4} > 1 \\\\0 & \\text{otherwise} \\end{cases}$"
      ],
      "text/plain": [
       "⎧       │1 │    \n",
       "⎪       │──│    \n",
       "⎪       │ 2│    \n",
       "⎪       │t │    \n",
       "⎨1  for ──── > 1\n",
       "⎪        4      \n",
       "⎪               \n",
       "⎪0   otherwise  \n",
       "⎩               "
      ]
     },
     "execution_count": 12,
     "metadata": {},
     "output_type": "execute_result"
    }
   ],
   "source": [
    "x = inverse_fourier_transform(XW)\n",
    "x"
   ]
  },
  {
   "cell_type": "code",
   "execution_count": 13,
   "metadata": {},
   "outputs": [
    {
     "data": {
      "image/png": "[encoded data removed]",
      "text/plain": [
       "<Figure size 432x288 with 1 Axes>"
      ]
     },
     "metadata": {
      "needs_background": "light"
     },
     "output_type": "display_data"
    }
   ],
   "source": [
    "sym.plot(x, (t,-1,1), ylabel=r'$x(t)$');"
   ]
  },
  {
   "cell_type": "markdown",
   "metadata": {},
   "source": [
    "# Convergencia\n",
    "Para que exista la transformada de fourier se debe cumplir que:\n",
    "1. $\\large x(t)$ sea absolutamente integrable\n",
    "$$\n",
    "\\large  \\int_{-\\infty}^{\\infty} | x(t) | \\; dt < \\infty\n",
    "$$\n",
    "2. $\\large x(t)$ debe tener un numero finito de intervalos en cualquier intervalo finito de la señal\n",
    "3. $\\large x(t)$ debe tener un numero finito de discontinuidades en cualquier intervalo finito de la señal"
   ]
  },
  {
   "cell_type": "markdown",
   "metadata": {},
   "source": [
    "\n",
    "# Transformada de Fourier para Señales Periodicas\n",
    "\n",
    "# Propiedades de la Tranformada de Fourier\n",
    "\n",
    "## Linealidad\n",
    "\n",
    "## Desplazamiento en el Tiempo\n",
    "\n",
    "## Conjugacion y Simetria Conjugada\n",
    "\n",
    "## Diferenciacion e Integracion\n",
    "\n",
    "## Escalamiento de Tiempo y Frecuencia\n",
    "\n",
    "## Dualidad\n",
    "\n",
    "## Relacion de Parseval\n",
    "\n",
    "## Convolucion\n",
    "\n",
    "## Multiplicacion o Modulacion\n",
    "\n",
    "# Sistemas Caracterizados por Ecuaciones Diferenciales con Coeficientes Constantes"
   ]
  },
  {
   "cell_type": "markdown",
   "metadata": {},
   "source": [
    "# REFERENCIAS"
   ]
  },
  {
   "cell_type": "markdown",
   "metadata": {},
   "source": [
    "**Phd. Jose R. Zapata**\n",
    "- [https://joserzapata.github.io/](https://joserzapata.github.io/)\n",
    "- https://twitter.com/joserzapata\n",
    "- joser.zapata@upb.edu.co"
   ]
  }
 ],
 "metadata": {
  "hide_input": false,
  "kernelspec": {
   "display_name": "Python 3",
   "language": "python",
   "name": "python3"
  },
  "language_info": {
   "codemirror_mode": {
    "name": "ipython",
    "version": 3
   },
   "file_extension": ".py",
   "mimetype": "text/x-python",
   "name": "python",
   "nbconvert_exporter": "python",
   "pygments_lexer": "ipython3",
   "version": "3.7.3"
  },
  "toc": {
   "base_numbering": 1,
   "nav_menu": {},
   "number_sections": true,
   "sideBar": true,
   "skip_h1_title": false,
   "title_cell": "Contenido",
   "title_sidebar": "Contenido",
   "toc_cell": true,
   "toc_position": {},
   "toc_section_display": true,
   "toc_window_display": true
  },
  "varInspector": {
   "cols": {
    "lenName": 16,
    "lenType": 16,
    "lenVar": 40
   },
   "kernels_config": {
    "python": {
     "delete_cmd_postfix": "",
     "delete_cmd_prefix": "del ",
     "library": "var_list.py",
     "varRefreshCmd": "print(var_dic_list())"
    },
    "r": {
     "delete_cmd_postfix": ") ",
     "delete_cmd_prefix": "rm(",
     "library": "var_list.r",
     "varRefreshCmd": "cat(var_dic_list()) "
    }
   },
   "types_to_exclude": [
    "module",
    "function",
    "builtin_function_or_method",
    "instance",
    "_Feature"
   ],
   "window_display": false
  }
 },
 "nbformat": 4,
 "nbformat_minor": 2
}
