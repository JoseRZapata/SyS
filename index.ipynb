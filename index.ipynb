{
 "cells": [
  {
   "cell_type": "markdown",
   "metadata": {},
   "source": [
    "# Sistemas y Señales\n",
    "\n",
    "Repositorio del Curso de Sistemas y Señales, el contenido del curso esta en Jupyter notebooks,\n",
    "con un poco de Teoria, Ecuaciones y Ejemplos utilizando Python. \n",
    "\n",
    "El Libro Guia de la mayoria del curso es Sistemas y Señales, Alan Oppenheim, Alan Willsky, Hamid Nawab, Prentice-Hall,1996. [Videos del curso de Alan Oppenheim](https://ocw.mit.edu/resources/res-6-007-signals-and-systems-spring-2011/video-lectures/)\n",
    "\n",
    "**MATERIAL EN CONSTRUCCION**\n",
    "\n",
    "Por \n",
    "\n",
    "Phd. Jose Ricardo Zapata <br>\n",
    "https://joserzapata.github.io/<br>\n",
    "https://twitter.com/joserzapata<br>"
   ]
  },
  {
   "cell_type": "markdown",
   "metadata": {},
   "source": [
    "# Temas:\n",
    "\n",
    "## Señales y Sistemas\n",
    "- [Operaciones de Variable Independiente](https://nbviewer.jupyter.org/github/JoseRZapata/SyS/blob/master/Operaciones.ipynb)\n",
    "- [Señales Periodicas y No Periodicas](https://nbviewer.jupyter.org/github/JoseRZapata/SyS/blob/master/Se%C3%B1al_Periodicas.ipynb)\n",
    "- [Señal Par e Impar](https://nbviewer.jupyter.org/github/JoseRZapata/SyS/blob/master/Par_Impar.ipynb)\n",
    "- [Señales Exponenciales Sinusoidales](https://nbviewer.jupyter.org/github/JoseRZapata/SyS/blob/master/Se%C3%B1ales_Exponenciales_Sinusoidales.ipynb)\n",
    "- [Funciones Singulares](https://nbviewer.jupyter.org/github/JoseRZapata/SyS/blob/master/Funciones_Singulares.ipynb)\n",
    "- [Sistemas](https://nbviewer.jupyter.org/github/JoseRZapata/SyS/blob/master/Sistemas.ipynb)\n",
    "\n",
    "## Convolucion\n",
    "- [Sistemas LTI y Convolucion](https://nbviewer.jupyter.org/github/JoseRZapata/SyS/blob/master/Sistemas_LTI_Convolucion.ipynb)\n",
    "\n",
    "## Series de Fourier\n",
    "- [Series De Fourier](https://nbviewer.jupyter.org/github/JoseRZapata/SyS/blob/master/Series_Fourier.ipynb)\n",
    "\n",
    "## Transformada de Fourier\n",
    "- [Transformada Continua de Fourier](https://nbviewer.jupyter.org/github/JoseRZapata/SyS/blob/master/Transformada_Continua_Fourier.ipynb)\n",
    "- [Transformada de Fourier en Tiempo Discreto (DTFT)](https://nbviewer.jupyter.org/github/JoseRZapata/SyS/blob/master/Transformada_Discreta_Fourier.ipynb)\n",
    "\n",
    "## Transformada de Laplace y Z\n",
    "- [Transformada de Laplace](https://nbviewer.jupyter.org/github/JoseRZapata/SyS/blob/master/Transformada_Laplace.ipynb)\n",
    "- [Transformada Z](https://nbviewer.jupyter.org/github/JoseRZapata/SyS/blob/master/Transformada_Z.ipynb)\n",
    "\n",
    "\n",
    "## Modulaciones Analogicas\n",
    "- Modulaciones de Amplitud\n",
    "- Modulaciones de Frecuencia\n",
    "- Modulaciones de Fase\n",
    "  "
   ]
  },
  {
   "cell_type": "markdown",
   "metadata": {},
   "source": [
    "# Referencias\n",
    "- Sistemas y Señales, Alan Oppenheim, Alan Willsky, Hamid Nawab, Prentice-Hall,1996.\n",
    "- Continuous-Time and Discrete-Time Signals and Systems https://github.com/spatialaudio/signals-and-systems-lecture\n",
    "- TELG1001 – Señales y Sistemas http://blog.espol.edu.ec/telg1001/\n",
    "- http://19e37.com/wiki/index.php?title=Categor%C3%ADa:Se%C3%B1ales_y_Sistemas"
   ]
  }
 ],
 "metadata": {
  "kernelspec": {
   "display_name": "Python 3",
   "language": "python",
   "name": "python3"
  },
  "language_info": {
   "codemirror_mode": {
    "name": "ipython",
    "version": 3
   },
   "file_extension": ".py",
   "mimetype": "text/x-python",
   "name": "python",
   "nbconvert_exporter": "python",
   "pygments_lexer": "ipython3",
   "version": "3.7.4"
  },
  "toc": {
   "base_numbering": 1,
   "nav_menu": {},
   "number_sections": true,
   "sideBar": true,
   "skip_h1_title": false,
   "title_cell": "Table of Contents",
   "title_sidebar": "Contents",
   "toc_cell": false,
   "toc_position": {},
   "toc_section_display": true,
   "toc_window_display": false
  },
  "varInspector": {
   "cols": {
    "lenName": 16,
    "lenType": 16,
    "lenVar": 40
   },
   "kernels_config": {
    "python": {
     "delete_cmd_postfix": "",
     "delete_cmd_prefix": "del ",
     "library": "var_list.py",
     "varRefreshCmd": "print(var_dic_list())"
    },
    "r": {
     "delete_cmd_postfix": ") ",
     "delete_cmd_prefix": "rm(",
     "library": "var_list.r",
     "varRefreshCmd": "cat(var_dic_list()) "
    }
   },
   "types_to_exclude": [
    "module",
    "function",
    "builtin_function_or_method",
    "instance",
    "_Feature"
   ],
   "window_display": false
  }
 },
 "nbformat": 4,
 "nbformat_minor": 2
}
