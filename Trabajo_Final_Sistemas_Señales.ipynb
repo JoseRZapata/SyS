{
 "cells": [
  {
   "cell_type": "markdown",
   "metadata": {},
   "source": [
    "# TRABAJO FINAL<a class=\"tocSkip\">\n",
    "## SISTEMAS Y SEÑALES <a class=\"tocSkip\">\n",
    "### Ingenieria de Telecomunicaciones <a class=\"tocSkip\">\n",
    "### Universidad Pontificia Bolivariana <a class=\"tocSkip\"> \n",
    "### Por Bruce Wayne <a class=\"tocSkip\">\n",
    "### Id: 000012345<a class=\"tocSkip\">\n",
    "### Docente: Jose R. Zapata - [https://joserzapata.github.io/](https://joserzapata.github.io/) <a class=\"tocSkip\">\n",
    "**joser.zapata@upb.edu.co**\n",
    "    \n",
    "**Fecha de entrega:** 14 de Noviembre   \n",
    "    "
   ]
  },
  {
   "cell_type": "markdown",
   "metadata": {
    "toc": true
   },
   "source": [
    "<h1>Contenido<span class=\"tocSkip\"></span></h1>\n",
    "<div class=\"toc\"><ul class=\"toc-item\"><li><span><a href=\"#Modulación\" data-toc-modified-id=\"Modulación-1\"><span class=\"toc-item-num\">1&nbsp;&nbsp;</span>Modulación</a></span><ul class=\"toc-item\"><li><span><a href=\"#A.M-DBL-SP-(Doble-banda-lateral-sin-portadora)\" data-toc-modified-id=\"A.M-DBL-SP-(Doble-banda-lateral-sin-portadora)-1.1\"><span class=\"toc-item-num\">1.1&nbsp;&nbsp;</span>A.M DBL-SP (Doble banda lateral sin portadora)</a></span><ul class=\"toc-item\"><li><span><a href=\"#Gráficas-en-el-Tiempo\" data-toc-modified-id=\"Gráficas-en-el-Tiempo-1.1.1\"><span class=\"toc-item-num\">1.1.1&nbsp;&nbsp;</span>Gráficas en el Tiempo</a></span></li><li><span><a href=\"#Gráficas-en-Frecuencia-(Magnitud-y-Fase)\" data-toc-modified-id=\"Gráficas-en-Frecuencia-(Magnitud-y-Fase)-1.1.2\"><span class=\"toc-item-num\">1.1.2&nbsp;&nbsp;</span>Gráficas en Frecuencia (Magnitud y Fase)</a></span></li></ul></li><li><span><a href=\"#AM-DBL-GP-(Doble-banda-lateral-gran-portadora)\" data-toc-modified-id=\"AM-DBL-GP-(Doble-banda-lateral-gran-portadora)-1.2\"><span class=\"toc-item-num\">1.2&nbsp;&nbsp;</span>AM DBL-GP (Doble banda lateral gran portadora)</a></span><ul class=\"toc-item\"><li><span><a href=\"#Gráficas-en-el-Tiempo\" data-toc-modified-id=\"Gráficas-en-el-Tiempo-1.2.1\"><span class=\"toc-item-num\">1.2.1&nbsp;&nbsp;</span>Gráficas en el Tiempo</a></span></li><li><span><a href=\"#Gráficas-en-Frecuencia-(Magnitud-y-Fase)\" data-toc-modified-id=\"Gráficas-en-Frecuencia-(Magnitud-y-Fase)-1.2.2\"><span class=\"toc-item-num\">1.2.2&nbsp;&nbsp;</span>Gráficas en Frecuencia (Magnitud y Fase)</a></span></li></ul></li><li><span><a href=\"#Banda-lateral-única-por-discriminación-de-fase-(BLU)\" data-toc-modified-id=\"Banda-lateral-única-por-discriminación-de-fase-(BLU)-1.3\"><span class=\"toc-item-num\">1.3&nbsp;&nbsp;</span>Banda lateral única por discriminación de fase (BLU)</a></span><ul class=\"toc-item\"><li><span><a href=\"#Gráficas-en-el-Tiempo\" data-toc-modified-id=\"Gráficas-en-el-Tiempo-1.3.1\"><span class=\"toc-item-num\">1.3.1&nbsp;&nbsp;</span>Gráficas en el Tiempo</a></span></li><li><span><a href=\"#Gráficas-en-Frecuencia-(Magnitud-y-Fase)\" data-toc-modified-id=\"Gráficas-en-Frecuencia-(Magnitud-y-Fase)-1.3.2\"><span class=\"toc-item-num\">1.3.2&nbsp;&nbsp;</span>Gráficas en Frecuencia (Magnitud y Fase)</a></span></li></ul></li><li><span><a href=\"#Modulación-en-cuadratura-(QAM)\" data-toc-modified-id=\"Modulación-en-cuadratura-(QAM)-1.4\"><span class=\"toc-item-num\">1.4&nbsp;&nbsp;</span>Modulación en cuadratura (QAM)</a></span><ul class=\"toc-item\"><li><span><a href=\"#Gráficas-en-el-Tiempo\" data-toc-modified-id=\"Gráficas-en-el-Tiempo-1.4.1\"><span class=\"toc-item-num\">1.4.1&nbsp;&nbsp;</span>Gráficas en el Tiempo</a></span></li><li><span><a href=\"#Gráficas-en-Frecuencia-(Magnitud-y-Fase)\" data-toc-modified-id=\"Gráficas-en-Frecuencia-(Magnitud-y-Fase)-1.4.2\"><span class=\"toc-item-num\">1.4.2&nbsp;&nbsp;</span>Gráficas en Frecuencia (Magnitud y Fase)</a></span></li></ul></li><li><span><a href=\"#Modulación-en-frecuencia-(FM)\" data-toc-modified-id=\"Modulación-en-frecuencia-(FM)-1.5\"><span class=\"toc-item-num\">1.5&nbsp;&nbsp;</span>Modulación en frecuencia (FM)</a></span><ul class=\"toc-item\"><li><span><a href=\"#Gráficas-en-el-Tiempo\" data-toc-modified-id=\"Gráficas-en-el-Tiempo-1.5.1\"><span class=\"toc-item-num\">1.5.1&nbsp;&nbsp;</span>Gráficas en el Tiempo</a></span></li><li><span><a href=\"#Gráficas-en-Frecuencia-(Magnitud-y-Fase)\" data-toc-modified-id=\"Gráficas-en-Frecuencia-(Magnitud-y-Fase)-1.5.2\"><span class=\"toc-item-num\">1.5.2&nbsp;&nbsp;</span>Gráficas en Frecuencia (Magnitud y Fase)</a></span></li></ul></li><li><span><a href=\"#Modulación-en-fase-(PM)\" data-toc-modified-id=\"Modulación-en-fase-(PM)-1.6\"><span class=\"toc-item-num\">1.6&nbsp;&nbsp;</span>Modulación en fase (PM)</a></span><ul class=\"toc-item\"><li><span><a href=\"#Gráficas-en-el-Tiempo\" data-toc-modified-id=\"Gráficas-en-el-Tiempo-1.6.1\"><span class=\"toc-item-num\">1.6.1&nbsp;&nbsp;</span>Gráficas en el Tiempo</a></span></li><li><span><a href=\"#Gráficas-en-Frecuencia-(Magnitud-y-Fase)\" data-toc-modified-id=\"Gráficas-en-Frecuencia-(Magnitud-y-Fase)-1.6.2\"><span class=\"toc-item-num\">1.6.2&nbsp;&nbsp;</span>Gráficas en Frecuencia (Magnitud y Fase)</a></span></li></ul></li></ul></li><li><span><a href=\"#Comparacion-de-las-Modulaciones\" data-toc-modified-id=\"Comparacion-de-las-Modulaciones-2\"><span class=\"toc-item-num\">2&nbsp;&nbsp;</span>Comparacion de las Modulaciones</a></span></li><li><span><a href=\"#Demodulación\" data-toc-modified-id=\"Demodulación-3\"><span class=\"toc-item-num\">3&nbsp;&nbsp;</span>Demodulación</a></span><ul class=\"toc-item\"><li><span><a href=\"#A.M-DBL-SP-(Doble-banda-lateral-sin-portadora)\" data-toc-modified-id=\"A.M-DBL-SP-(Doble-banda-lateral-sin-portadora)-3.1\"><span class=\"toc-item-num\">3.1&nbsp;&nbsp;</span>A.M DBL-SP (Doble banda lateral sin portadora)</a></span><ul class=\"toc-item\"><li><span><a href=\"#Gráficas-en-el-Tiempo\" data-toc-modified-id=\"Gráficas-en-el-Tiempo-3.1.1\"><span class=\"toc-item-num\">3.1.1&nbsp;&nbsp;</span>Gráficas en el Tiempo</a></span></li><li><span><a href=\"#Gráficas-en-Frecuencia-(Magnitud-y-Fase)\" data-toc-modified-id=\"Gráficas-en-Frecuencia-(Magnitud-y-Fase)-3.1.2\"><span class=\"toc-item-num\">3.1.2&nbsp;&nbsp;</span>Gráficas en Frecuencia (Magnitud y Fase)</a></span></li></ul></li><li><span><a href=\"#AM-DBL-GP-(Doble-banda-lateral-gran-portadora)\" data-toc-modified-id=\"AM-DBL-GP-(Doble-banda-lateral-gran-portadora)-3.2\"><span class=\"toc-item-num\">3.2&nbsp;&nbsp;</span>AM DBL-GP (Doble banda lateral gran portadora)</a></span><ul class=\"toc-item\"><li><span><a href=\"#Gráficas-en-el-Tiempo\" data-toc-modified-id=\"Gráficas-en-el-Tiempo-3.2.1\"><span class=\"toc-item-num\">3.2.1&nbsp;&nbsp;</span>Gráficas en el Tiempo</a></span></li><li><span><a href=\"#Gráficas-en-Frecuencia-(Magnitud-y-Fase)\" data-toc-modified-id=\"Gráficas-en-Frecuencia-(Magnitud-y-Fase)-3.2.2\"><span class=\"toc-item-num\">3.2.2&nbsp;&nbsp;</span>Gráficas en Frecuencia (Magnitud y Fase)</a></span></li></ul></li><li><span><a href=\"#Banda-lateral-única-por-discriminación-de-fase-(BLU)\" data-toc-modified-id=\"Banda-lateral-única-por-discriminación-de-fase-(BLU)-3.3\"><span class=\"toc-item-num\">3.3&nbsp;&nbsp;</span>Banda lateral única por discriminación de fase (BLU)</a></span><ul class=\"toc-item\"><li><span><a href=\"#Gráficas-en-el-Tiempo\" data-toc-modified-id=\"Gráficas-en-el-Tiempo-3.3.1\"><span class=\"toc-item-num\">3.3.1&nbsp;&nbsp;</span>Gráficas en el Tiempo</a></span></li><li><span><a href=\"#Gráficas-en-Frecuencia-(Magnitud-y-Fase)\" data-toc-modified-id=\"Gráficas-en-Frecuencia-(Magnitud-y-Fase)-3.3.2\"><span class=\"toc-item-num\">3.3.2&nbsp;&nbsp;</span>Gráficas en Frecuencia (Magnitud y Fase)</a></span></li></ul></li><li><span><a href=\"#Modulación-en-cuadratura-(QAM)\" data-toc-modified-id=\"Modulación-en-cuadratura-(QAM)-3.4\"><span class=\"toc-item-num\">3.4&nbsp;&nbsp;</span>Modulación en cuadratura (QAM)</a></span><ul class=\"toc-item\"><li><span><a href=\"#Gráficas-en-el-Tiempo\" data-toc-modified-id=\"Gráficas-en-el-Tiempo-3.4.1\"><span class=\"toc-item-num\">3.4.1&nbsp;&nbsp;</span>Gráficas en el Tiempo</a></span></li><li><span><a href=\"#Gráficas-en-Frecuencia-(Magnitud-y-Fase)\" data-toc-modified-id=\"Gráficas-en-Frecuencia-(Magnitud-y-Fase)-3.4.2\"><span class=\"toc-item-num\">3.4.2&nbsp;&nbsp;</span>Gráficas en Frecuencia (Magnitud y Fase)</a></span></li></ul></li><li><span><a href=\"#Modulación-en-frecuencia-(FM)\" data-toc-modified-id=\"Modulación-en-frecuencia-(FM)-3.5\"><span class=\"toc-item-num\">3.5&nbsp;&nbsp;</span>Modulación en frecuencia (FM)</a></span><ul class=\"toc-item\"><li><span><a href=\"#Gráficas-en-el-Tiempo\" data-toc-modified-id=\"Gráficas-en-el-Tiempo-3.5.1\"><span class=\"toc-item-num\">3.5.1&nbsp;&nbsp;</span>Gráficas en el Tiempo</a></span></li><li><span><a href=\"#Gráficas-en-Frecuencia-(Magnitud-y-Fase)\" data-toc-modified-id=\"Gráficas-en-Frecuencia-(Magnitud-y-Fase)-3.5.2\"><span class=\"toc-item-num\">3.5.2&nbsp;&nbsp;</span>Gráficas en Frecuencia (Magnitud y Fase)</a></span></li></ul></li><li><span><a href=\"#Modulación-en-fase-(PM)\" data-toc-modified-id=\"Modulación-en-fase-(PM)-3.6\"><span class=\"toc-item-num\">3.6&nbsp;&nbsp;</span>Modulación en fase (PM)</a></span><ul class=\"toc-item\"><li><span><a href=\"#Gráficas-en-el-Tiempo\" data-toc-modified-id=\"Gráficas-en-el-Tiempo-3.6.1\"><span class=\"toc-item-num\">3.6.1&nbsp;&nbsp;</span>Gráficas en el Tiempo</a></span></li><li><span><a href=\"#Gráficas-en-Frecuencia-(Magnitud-y-Fase)\" data-toc-modified-id=\"Gráficas-en-Frecuencia-(Magnitud-y-Fase)-3.6.2\"><span class=\"toc-item-num\">3.6.2&nbsp;&nbsp;</span>Gráficas en Frecuencia (Magnitud y Fase)</a></span></li></ul></li></ul></li><li><span><a href=\"#Comparación-de-las-Demodulaciones\" data-toc-modified-id=\"Comparación-de-las-Demodulaciones-4\"><span class=\"toc-item-num\">4&nbsp;&nbsp;</span>Comparación de las Demodulaciones</a></span></li><li><span><a href=\"#Demodulación-En-Canal-con-Ruido-AWGN\" data-toc-modified-id=\"Demodulación-En-Canal-con-Ruido-AWGN-5\"><span class=\"toc-item-num\">5&nbsp;&nbsp;</span>Demodulación En Canal con Ruido AWGN</a></span><ul class=\"toc-item\"><li><span><a href=\"#A.M-DBL-SP-(Doble-banda-lateral-sin-portadora)\" data-toc-modified-id=\"A.M-DBL-SP-(Doble-banda-lateral-sin-portadora)-5.1\"><span class=\"toc-item-num\">5.1&nbsp;&nbsp;</span>A.M DBL-SP (Doble banda lateral sin portadora)</a></span><ul class=\"toc-item\"><li><span><a href=\"#Gráficas-en-el-Tiempo\" data-toc-modified-id=\"Gráficas-en-el-Tiempo-5.1.1\"><span class=\"toc-item-num\">5.1.1&nbsp;&nbsp;</span>Gráficas en el Tiempo</a></span></li><li><span><a href=\"#Gráficas-en-Frecuencia-(Magnitud-y-Fase)\" data-toc-modified-id=\"Gráficas-en-Frecuencia-(Magnitud-y-Fase)-5.1.2\"><span class=\"toc-item-num\">5.1.2&nbsp;&nbsp;</span>Gráficas en Frecuencia (Magnitud y Fase)</a></span></li></ul></li><li><span><a href=\"#AM-DBL-GP-(Doble-banda-lateral-gran-portadora)\" data-toc-modified-id=\"AM-DBL-GP-(Doble-banda-lateral-gran-portadora)-5.2\"><span class=\"toc-item-num\">5.2&nbsp;&nbsp;</span>AM DBL-GP (Doble banda lateral gran portadora)</a></span><ul class=\"toc-item\"><li><span><a href=\"#Gráficas-en-el-Tiempo\" data-toc-modified-id=\"Gráficas-en-el-Tiempo-5.2.1\"><span class=\"toc-item-num\">5.2.1&nbsp;&nbsp;</span>Gráficas en el Tiempo</a></span></li><li><span><a href=\"#Gráficas-en-Frecuencia-(Magnitud-y-Fase)\" data-toc-modified-id=\"Gráficas-en-Frecuencia-(Magnitud-y-Fase)-5.2.2\"><span class=\"toc-item-num\">5.2.2&nbsp;&nbsp;</span>Gráficas en Frecuencia (Magnitud y Fase)</a></span></li></ul></li><li><span><a href=\"#Banda-lateral-única-por-discriminación-de-fase-(BLU)\" data-toc-modified-id=\"Banda-lateral-única-por-discriminación-de-fase-(BLU)-5.3\"><span class=\"toc-item-num\">5.3&nbsp;&nbsp;</span>Banda lateral única por discriminación de fase (BLU)</a></span><ul class=\"toc-item\"><li><span><a href=\"#Gráficas-en-el-Tiempo\" data-toc-modified-id=\"Gráficas-en-el-Tiempo-5.3.1\"><span class=\"toc-item-num\">5.3.1&nbsp;&nbsp;</span>Gráficas en el Tiempo</a></span></li><li><span><a href=\"#Gráficas-en-Frecuencia-(Magnitud-y-Fase)\" data-toc-modified-id=\"Gráficas-en-Frecuencia-(Magnitud-y-Fase)-5.3.2\"><span class=\"toc-item-num\">5.3.2&nbsp;&nbsp;</span>Gráficas en Frecuencia (Magnitud y Fase)</a></span></li></ul></li><li><span><a href=\"#Modulación-en-cuadratura-(QAM)\" data-toc-modified-id=\"Modulación-en-cuadratura-(QAM)-5.4\"><span class=\"toc-item-num\">5.4&nbsp;&nbsp;</span>Modulación en cuadratura (QAM)</a></span><ul class=\"toc-item\"><li><span><a href=\"#Gráficas-en-el-Tiempo\" data-toc-modified-id=\"Gráficas-en-el-Tiempo-5.4.1\"><span class=\"toc-item-num\">5.4.1&nbsp;&nbsp;</span>Gráficas en el Tiempo</a></span></li><li><span><a href=\"#Gráficas-en-Frecuencia-(Magnitud-y-Fase)\" data-toc-modified-id=\"Gráficas-en-Frecuencia-(Magnitud-y-Fase)-5.4.2\"><span class=\"toc-item-num\">5.4.2&nbsp;&nbsp;</span>Gráficas en Frecuencia (Magnitud y Fase)</a></span></li></ul></li><li><span><a href=\"#Modulación-en-frecuencia-(FM)\" data-toc-modified-id=\"Modulación-en-frecuencia-(FM)-5.5\"><span class=\"toc-item-num\">5.5&nbsp;&nbsp;</span>Modulación en frecuencia (FM)</a></span><ul class=\"toc-item\"><li><span><a href=\"#Gráficas-en-el-Tiempo\" data-toc-modified-id=\"Gráficas-en-el-Tiempo-5.5.1\"><span class=\"toc-item-num\">5.5.1&nbsp;&nbsp;</span>Gráficas en el Tiempo</a></span></li><li><span><a href=\"#Gráficas-en-Frecuencia-(Magnitud-y-Fase)\" data-toc-modified-id=\"Gráficas-en-Frecuencia-(Magnitud-y-Fase)-5.5.2\"><span class=\"toc-item-num\">5.5.2&nbsp;&nbsp;</span>Gráficas en Frecuencia (Magnitud y Fase)</a></span></li></ul></li><li><span><a href=\"#Modulación-en-fase-(PM)\" data-toc-modified-id=\"Modulación-en-fase-(PM)-5.6\"><span class=\"toc-item-num\">5.6&nbsp;&nbsp;</span>Modulación en fase (PM)</a></span><ul class=\"toc-item\"><li><span><a href=\"#Gráficas-en-el-Tiempo\" data-toc-modified-id=\"Gráficas-en-el-Tiempo-5.6.1\"><span class=\"toc-item-num\">5.6.1&nbsp;&nbsp;</span>Gráficas en el Tiempo</a></span></li><li><span><a href=\"#Gráficas-en-Frecuencia-(Magnitud-y-Fase)\" data-toc-modified-id=\"Gráficas-en-Frecuencia-(Magnitud-y-Fase)-5.6.2\"><span class=\"toc-item-num\">5.6.2&nbsp;&nbsp;</span>Gráficas en Frecuencia (Magnitud y Fase)</a></span></li></ul></li></ul></li><li><span><a href=\"#Comparación-de-las-Demodulaciones-En-Canal-Con-Ruido\" data-toc-modified-id=\"Comparación-de-las-Demodulaciones-En-Canal-Con-Ruido-6\"><span class=\"toc-item-num\">6&nbsp;&nbsp;</span>Comparación de las Demodulaciones En Canal Con Ruido</a></span></li><li><span><a href=\"#REFERENCIAS\" data-toc-modified-id=\"REFERENCIAS-7\"><span class=\"toc-item-num\">7&nbsp;&nbsp;</span>REFERENCIAS</a></span></li></ul></div>"
   ]
  },
  {
   "cell_type": "markdown",
   "metadata": {},
   "source": [
    "**Objetivos:**\n",
    "- Comprobar el Analisis de señales de las modulaciones analogicas.\n",
    "- Comprender el efecto del Aliasing \n",
    "- Manejo del Lenguaje de programación Python"
   ]
  },
  {
   "cell_type": "markdown",
   "metadata": {},
   "source": [
    "# Modulación\n",
    "\n",
    "Utilizando Python realice los siguientes procesos de modulación Analogica:\n",
    "- A.M DBL-SP (Doble banda lateral sin portadora)\n",
    "- AM DBL-GP (Doble banda lateral gran portadora)\n",
    "- Banda lateral única por discriminación de fase (BLU)\n",
    "- Modulación en cuadratura (QAM)\n",
    "- Modulación en frecuencia (FM)\n",
    "- Modulación en fase (PM)\n",
    "\n",
    "Realice el proceso con una señal Moduladora $x(t) = \\sin(w_at)$\n",
    "\n",
    "Seleccione la frecuencia de desee de las señales moduladoras (Banda Base, baja frecuencia) y la señal portadora (alta frecuencia). si se requiere nivel de directa utilice el valor que desee.\n",
    "\n",
    "\n",
    "**Obtenga las gráficas de las señales en el tiempo y en la frecuencia (Magnitud y fase) de la Moduladora, la Portadora y la Modulada** , los ejes deben mostrar correctamente las unidades de cada una de las gráficas y su escala.\n",
    "\n",
    "Haga una comparación de los espectros obtenidos en las modulaciones:\n",
    "- ¿Cuanto Ancho de banda consumen?\n",
    "- ¿Cuanta Potencia consumen?"
   ]
  },
  {
   "cell_type": "markdown",
   "metadata": {},
   "source": [
    "## A.M DBL-SP (Doble banda lateral sin portadora)"
   ]
  },
  {
   "cell_type": "code",
   "execution_count": null,
   "metadata": {},
   "outputs": [],
   "source": []
  },
  {
   "cell_type": "markdown",
   "metadata": {},
   "source": [
    "### Gráficas en el Tiempo\n",
    "- Moduladora\n",
    "- Portadora\n",
    "- Modulada"
   ]
  },
  {
   "cell_type": "code",
   "execution_count": null,
   "metadata": {},
   "outputs": [],
   "source": []
  },
  {
   "cell_type": "markdown",
   "metadata": {},
   "source": [
    "### Gráficas en Frecuencia (Magnitud y Fase)\n",
    "- Moduladora\n",
    "- Portadora\n",
    "- Modulada"
   ]
  },
  {
   "cell_type": "code",
   "execution_count": null,
   "metadata": {},
   "outputs": [],
   "source": []
  },
  {
   "cell_type": "markdown",
   "metadata": {},
   "source": [
    "## AM DBL-GP (Doble banda lateral gran portadora)"
   ]
  },
  {
   "cell_type": "code",
   "execution_count": null,
   "metadata": {},
   "outputs": [],
   "source": []
  },
  {
   "cell_type": "markdown",
   "metadata": {},
   "source": [
    "### Gráficas en el Tiempo\n",
    "- Moduladora\n",
    "- Portadora\n",
    "- Modulada"
   ]
  },
  {
   "cell_type": "code",
   "execution_count": null,
   "metadata": {},
   "outputs": [],
   "source": []
  },
  {
   "cell_type": "markdown",
   "metadata": {},
   "source": [
    "### Gráficas en Frecuencia (Magnitud y Fase)\n",
    "- Moduladora\n",
    "- Portadora\n",
    "- Modulada"
   ]
  },
  {
   "cell_type": "code",
   "execution_count": null,
   "metadata": {},
   "outputs": [],
   "source": []
  },
  {
   "cell_type": "markdown",
   "metadata": {},
   "source": [
    "## Banda lateral única por discriminación de fase (BLU)"
   ]
  },
  {
   "cell_type": "code",
   "execution_count": null,
   "metadata": {},
   "outputs": [],
   "source": []
  },
  {
   "cell_type": "markdown",
   "metadata": {},
   "source": [
    "### Gráficas en el Tiempo\n",
    "- Moduladora\n",
    "- Portadora\n",
    "- Modulada"
   ]
  },
  {
   "cell_type": "code",
   "execution_count": null,
   "metadata": {},
   "outputs": [],
   "source": []
  },
  {
   "cell_type": "markdown",
   "metadata": {},
   "source": [
    "### Gráficas en Frecuencia (Magnitud y Fase)\n",
    "- Moduladora\n",
    "- Portadora\n",
    "- Modulada"
   ]
  },
  {
   "cell_type": "code",
   "execution_count": null,
   "metadata": {},
   "outputs": [],
   "source": []
  },
  {
   "cell_type": "markdown",
   "metadata": {},
   "source": [
    "## Modulación en cuadratura (QAM)"
   ]
  },
  {
   "cell_type": "code",
   "execution_count": null,
   "metadata": {},
   "outputs": [],
   "source": []
  },
  {
   "cell_type": "markdown",
   "metadata": {},
   "source": [
    "### Gráficas en el Tiempo\n",
    "- Moduladora\n",
    "- Portadora\n",
    "- Modulada"
   ]
  },
  {
   "cell_type": "code",
   "execution_count": null,
   "metadata": {},
   "outputs": [],
   "source": []
  },
  {
   "cell_type": "markdown",
   "metadata": {},
   "source": [
    "### Gráficas en Frecuencia (Magnitud y Fase)\n",
    "- Moduladora\n",
    "- Portadora\n",
    "- Modulada"
   ]
  },
  {
   "cell_type": "code",
   "execution_count": null,
   "metadata": {},
   "outputs": [],
   "source": []
  },
  {
   "cell_type": "markdown",
   "metadata": {},
   "source": [
    "## Modulación en frecuencia (FM)"
   ]
  },
  {
   "cell_type": "code",
   "execution_count": null,
   "metadata": {},
   "outputs": [],
   "source": []
  },
  {
   "cell_type": "markdown",
   "metadata": {},
   "source": [
    "### Gráficas en el Tiempo\n",
    "- Moduladora\n",
    "- Portadora\n",
    "- Modulada"
   ]
  },
  {
   "cell_type": "code",
   "execution_count": null,
   "metadata": {},
   "outputs": [],
   "source": []
  },
  {
   "cell_type": "markdown",
   "metadata": {},
   "source": [
    "### Gráficas en Frecuencia (Magnitud y Fase)\n",
    "- Moduladora\n",
    "- Portadora\n",
    "- Modulada"
   ]
  },
  {
   "cell_type": "code",
   "execution_count": null,
   "metadata": {},
   "outputs": [],
   "source": []
  },
  {
   "cell_type": "markdown",
   "metadata": {},
   "source": [
    "## Modulación en fase (PM)"
   ]
  },
  {
   "cell_type": "code",
   "execution_count": null,
   "metadata": {},
   "outputs": [],
   "source": []
  },
  {
   "cell_type": "markdown",
   "metadata": {},
   "source": [
    "### Gráficas en el Tiempo\n",
    "- Moduladora\n",
    "- Portadora\n",
    "- Modulada"
   ]
  },
  {
   "cell_type": "code",
   "execution_count": null,
   "metadata": {},
   "outputs": [],
   "source": []
  },
  {
   "cell_type": "markdown",
   "metadata": {},
   "source": [
    "### Gráficas en Frecuencia (Magnitud y Fase)\n",
    "- Moduladora\n",
    "- Portadora\n",
    "- Modulada"
   ]
  },
  {
   "cell_type": "code",
   "execution_count": null,
   "metadata": {},
   "outputs": [],
   "source": []
  },
  {
   "cell_type": "markdown",
   "metadata": {},
   "source": [
    "# Comparacion de las Modulaciones\n",
    "\n",
    "Realice una comparación entre las modulaciones realizadas en los puntos anteriores,\n",
    "En Base a las gráficas de tiempo y frecuencia como base de las comparaciones.\n",
    "- ¿Cuanto Ancho de banda consumen?\n",
    "- ¿Cuanta Potencia consumen?"
   ]
  },
  {
   "cell_type": "code",
   "execution_count": null,
   "metadata": {},
   "outputs": [],
   "source": []
  },
  {
   "cell_type": "markdown",
   "metadata": {},
   "source": [
    "# Demodulación\n",
    "\n",
    "Realice la demodulación Analógica\n",
    "de las modulaciones realizadas en los puntos anteriores:\n",
    "- A.M DBL-SP (Doble banda lateral sin portadora)\n",
    "- AM DBL-GP (Doble banda lateral gran portadora)\n",
    "- Banda lateral única por discriminación de fase (BLU)\n",
    "- Modulación en cuadratura (QAM)\n",
    "- Modulación en frecuencia (FM)\n",
    "- Modulación en fase (PM)\n",
    "\n",
    "**Obtenga las gráficas de las señales en el tiempo y en la frecuencia (Magnitud y fase) de la Moduladora y la demodulada**, los ejes deben mostrar correctamente las unidades de cada una de las gráficas y su escala.\n",
    "\n",
    "**Haga una comparación de las señales de información obtenidas en la demodulación con la señal de información original.**"
   ]
  },
  {
   "cell_type": "code",
   "execution_count": null,
   "metadata": {},
   "outputs": [],
   "source": []
  },
  {
   "cell_type": "markdown",
   "metadata": {},
   "source": [
    "## A.M DBL-SP (Doble banda lateral sin portadora)"
   ]
  },
  {
   "cell_type": "code",
   "execution_count": null,
   "metadata": {},
   "outputs": [],
   "source": []
  },
  {
   "cell_type": "markdown",
   "metadata": {},
   "source": [
    "### Gráficas en el Tiempo\n",
    "- Moduladora\n",
    "- Demodulada"
   ]
  },
  {
   "cell_type": "code",
   "execution_count": null,
   "metadata": {},
   "outputs": [],
   "source": []
  },
  {
   "cell_type": "markdown",
   "metadata": {},
   "source": [
    "### Gráficas en Frecuencia (Magnitud y Fase)\n",
    "- Moduladora\n",
    "- Demodulada"
   ]
  },
  {
   "cell_type": "code",
   "execution_count": null,
   "metadata": {},
   "outputs": [],
   "source": []
  },
  {
   "cell_type": "markdown",
   "metadata": {},
   "source": [
    "## AM DBL-GP (Doble banda lateral gran portadora)"
   ]
  },
  {
   "cell_type": "code",
   "execution_count": null,
   "metadata": {},
   "outputs": [],
   "source": []
  },
  {
   "cell_type": "markdown",
   "metadata": {},
   "source": [
    "### Gráficas en el Tiempo\n",
    "- Moduladora\n",
    "- Demodulada"
   ]
  },
  {
   "cell_type": "code",
   "execution_count": null,
   "metadata": {},
   "outputs": [],
   "source": []
  },
  {
   "cell_type": "markdown",
   "metadata": {},
   "source": [
    "### Gráficas en Frecuencia (Magnitud y Fase)\n",
    "- Moduladora\n",
    "- Demodulada"
   ]
  },
  {
   "cell_type": "code",
   "execution_count": null,
   "metadata": {},
   "outputs": [],
   "source": []
  },
  {
   "cell_type": "markdown",
   "metadata": {},
   "source": [
    "## Banda lateral única por discriminación de fase (BLU)"
   ]
  },
  {
   "cell_type": "code",
   "execution_count": null,
   "metadata": {},
   "outputs": [],
   "source": []
  },
  {
   "cell_type": "markdown",
   "metadata": {},
   "source": [
    "### Gráficas en el Tiempo\n",
    "- Moduladora\n",
    "- Demodulada"
   ]
  },
  {
   "cell_type": "code",
   "execution_count": null,
   "metadata": {},
   "outputs": [],
   "source": []
  },
  {
   "cell_type": "markdown",
   "metadata": {},
   "source": [
    "### Gráficas en Frecuencia (Magnitud y Fase)\n",
    "- Moduladora\n",
    "- Demodulada"
   ]
  },
  {
   "cell_type": "code",
   "execution_count": null,
   "metadata": {},
   "outputs": [],
   "source": []
  },
  {
   "cell_type": "markdown",
   "metadata": {},
   "source": [
    "## Modulación en cuadratura (QAM)"
   ]
  },
  {
   "cell_type": "code",
   "execution_count": null,
   "metadata": {},
   "outputs": [],
   "source": []
  },
  {
   "cell_type": "markdown",
   "metadata": {},
   "source": [
    "### Gráficas en el Tiempo\n",
    "- Moduladora\n",
    "- Demodulada"
   ]
  },
  {
   "cell_type": "code",
   "execution_count": null,
   "metadata": {},
   "outputs": [],
   "source": []
  },
  {
   "cell_type": "markdown",
   "metadata": {},
   "source": [
    "### Gráficas en Frecuencia (Magnitud y Fase)\n",
    "- Moduladora\n",
    "- Demodulada"
   ]
  },
  {
   "cell_type": "code",
   "execution_count": null,
   "metadata": {},
   "outputs": [],
   "source": []
  },
  {
   "cell_type": "markdown",
   "metadata": {},
   "source": [
    "## Modulación en frecuencia (FM)"
   ]
  },
  {
   "cell_type": "code",
   "execution_count": null,
   "metadata": {},
   "outputs": [],
   "source": []
  },
  {
   "cell_type": "markdown",
   "metadata": {},
   "source": [
    "### Gráficas en el Tiempo\n",
    "- Moduladora\n",
    "- Demodulada"
   ]
  },
  {
   "cell_type": "code",
   "execution_count": null,
   "metadata": {},
   "outputs": [],
   "source": []
  },
  {
   "cell_type": "markdown",
   "metadata": {},
   "source": [
    "### Gráficas en Frecuencia (Magnitud y Fase)\n",
    "- Moduladora\n",
    "- Demodulada"
   ]
  },
  {
   "cell_type": "code",
   "execution_count": null,
   "metadata": {},
   "outputs": [],
   "source": []
  },
  {
   "cell_type": "markdown",
   "metadata": {},
   "source": [
    "## Modulación en fase (PM)"
   ]
  },
  {
   "cell_type": "code",
   "execution_count": null,
   "metadata": {},
   "outputs": [],
   "source": []
  },
  {
   "cell_type": "markdown",
   "metadata": {},
   "source": [
    "### Gráficas en el Tiempo\n",
    "- Moduladora\n",
    "- Demodulada"
   ]
  },
  {
   "cell_type": "code",
   "execution_count": null,
   "metadata": {},
   "outputs": [],
   "source": []
  },
  {
   "cell_type": "markdown",
   "metadata": {},
   "source": [
    "### Gráficas en Frecuencia (Magnitud y Fase)\n",
    "- Moduladora\n",
    "- Demodulada"
   ]
  },
  {
   "cell_type": "code",
   "execution_count": null,
   "metadata": {},
   "outputs": [],
   "source": []
  },
  {
   "cell_type": "markdown",
   "metadata": {},
   "source": [
    "# Comparación de las Demodulaciones\n",
    "\n",
    "Realice una comparación entre las demodulaciones realizadas en los puntos anteriores,\n",
    "Utilizando de Referencia las gráficas de tiempo y frecuencia como base de las comparaciones"
   ]
  },
  {
   "cell_type": "code",
   "execution_count": null,
   "metadata": {},
   "outputs": [],
   "source": []
  },
  {
   "cell_type": "markdown",
   "metadata": {},
   "source": [
    "# Demodulación En Canal con Ruido AWGN\n",
    "\n",
    "Realice la demodulación Analógica\n",
    "de las modulaciones realizadas en los puntos anteriores, pero antes de demodular la señal, Agregue a la señal un poco de ruido blanco aditivo gaussiano (AWGN)\n",
    "\n",
    "**Obtenga las gráficas de las señales en el tiempo y en la frecuencia (Magnitud y fase) de la Moduladora y la demodulada**, los ejes deben mostrar correctamente las unidades de cada una de las gráficas y su escala.\n",
    "\n",
    "**Haga una comparación de las señales de información obtenidas en la demodulación con la señal de información original y su sensibilidad al Ruido**"
   ]
  },
  {
   "cell_type": "markdown",
   "metadata": {},
   "source": [
    "## A.M DBL-SP (Doble banda lateral sin portadora)"
   ]
  },
  {
   "cell_type": "code",
   "execution_count": null,
   "metadata": {},
   "outputs": [],
   "source": []
  },
  {
   "cell_type": "markdown",
   "metadata": {},
   "source": [
    "### Gráficas en el Tiempo\n",
    "- Moduladora\n",
    "- Demodulada"
   ]
  },
  {
   "cell_type": "code",
   "execution_count": null,
   "metadata": {},
   "outputs": [],
   "source": []
  },
  {
   "cell_type": "markdown",
   "metadata": {},
   "source": [
    "### Gráficas en Frecuencia (Magnitud y Fase)\n",
    "- Moduladora\n",
    "- Demodulada"
   ]
  },
  {
   "cell_type": "code",
   "execution_count": null,
   "metadata": {},
   "outputs": [],
   "source": []
  },
  {
   "cell_type": "markdown",
   "metadata": {},
   "source": [
    "## AM DBL-GP (Doble banda lateral gran portadora)"
   ]
  },
  {
   "cell_type": "code",
   "execution_count": null,
   "metadata": {},
   "outputs": [],
   "source": []
  },
  {
   "cell_type": "markdown",
   "metadata": {},
   "source": [
    "### Gráficas en el Tiempo\n",
    "- Moduladora\n",
    "- Demodulada"
   ]
  },
  {
   "cell_type": "code",
   "execution_count": null,
   "metadata": {},
   "outputs": [],
   "source": []
  },
  {
   "cell_type": "markdown",
   "metadata": {},
   "source": [
    "### Gráficas en Frecuencia (Magnitud y Fase)\n",
    "- Moduladora\n",
    "- Demodulada"
   ]
  },
  {
   "cell_type": "code",
   "execution_count": null,
   "metadata": {},
   "outputs": [],
   "source": []
  },
  {
   "cell_type": "markdown",
   "metadata": {},
   "source": [
    "## Banda lateral única por discriminación de fase (BLU)"
   ]
  },
  {
   "cell_type": "code",
   "execution_count": null,
   "metadata": {},
   "outputs": [],
   "source": []
  },
  {
   "cell_type": "markdown",
   "metadata": {},
   "source": [
    "### Gráficas en el Tiempo\n",
    "- Moduladora\n",
    "- Demodulada"
   ]
  },
  {
   "cell_type": "code",
   "execution_count": null,
   "metadata": {},
   "outputs": [],
   "source": []
  },
  {
   "cell_type": "markdown",
   "metadata": {},
   "source": [
    "### Gráficas en Frecuencia (Magnitud y Fase)\n",
    "- Moduladora\n",
    "- Demodulada"
   ]
  },
  {
   "cell_type": "code",
   "execution_count": null,
   "metadata": {},
   "outputs": [],
   "source": []
  },
  {
   "cell_type": "markdown",
   "metadata": {},
   "source": [
    "## Modulación en cuadratura (QAM)"
   ]
  },
  {
   "cell_type": "code",
   "execution_count": null,
   "metadata": {},
   "outputs": [],
   "source": []
  },
  {
   "cell_type": "markdown",
   "metadata": {},
   "source": [
    "### Gráficas en el Tiempo\n",
    "- Moduladora\n",
    "- Demodulada"
   ]
  },
  {
   "cell_type": "code",
   "execution_count": null,
   "metadata": {},
   "outputs": [],
   "source": []
  },
  {
   "cell_type": "markdown",
   "metadata": {},
   "source": [
    "### Gráficas en Frecuencia (Magnitud y Fase)\n",
    "- Moduladora\n",
    "- Demodulada"
   ]
  },
  {
   "cell_type": "code",
   "execution_count": null,
   "metadata": {},
   "outputs": [],
   "source": []
  },
  {
   "cell_type": "markdown",
   "metadata": {},
   "source": [
    "## Modulación en frecuencia (FM)"
   ]
  },
  {
   "cell_type": "code",
   "execution_count": null,
   "metadata": {},
   "outputs": [],
   "source": []
  },
  {
   "cell_type": "markdown",
   "metadata": {},
   "source": [
    "### Gráficas en el Tiempo\n",
    "- Moduladora\n",
    "- Demodulada"
   ]
  },
  {
   "cell_type": "code",
   "execution_count": null,
   "metadata": {},
   "outputs": [],
   "source": []
  },
  {
   "cell_type": "markdown",
   "metadata": {},
   "source": [
    "### Gráficas en Frecuencia (Magnitud y Fase)\n",
    "- Moduladora\n",
    "- Demodulada"
   ]
  },
  {
   "cell_type": "code",
   "execution_count": null,
   "metadata": {},
   "outputs": [],
   "source": []
  },
  {
   "cell_type": "markdown",
   "metadata": {},
   "source": [
    "## Modulación en fase (PM)"
   ]
  },
  {
   "cell_type": "code",
   "execution_count": null,
   "metadata": {},
   "outputs": [],
   "source": []
  },
  {
   "cell_type": "markdown",
   "metadata": {},
   "source": [
    "### Gráficas en el Tiempo\n",
    "- Moduladora\n",
    "- Demodulada"
   ]
  },
  {
   "cell_type": "code",
   "execution_count": null,
   "metadata": {},
   "outputs": [],
   "source": []
  },
  {
   "cell_type": "markdown",
   "metadata": {},
   "source": [
    "### Gráficas en Frecuencia (Magnitud y Fase)\n",
    "- Moduladora\n",
    "- Demodulada"
   ]
  },
  {
   "cell_type": "code",
   "execution_count": null,
   "metadata": {},
   "outputs": [],
   "source": []
  },
  {
   "cell_type": "markdown",
   "metadata": {},
   "source": [
    "# Comparación de las Demodulaciones En Canal Con Ruido\n",
    "\n",
    "Realice una comparación entre las demodulaciones realizadas en los puntos anteriores,\n",
    "Utilizando de Referencia las gráficas de tiempo y frecuencia como base de las comparaciones"
   ]
  },
  {
   "cell_type": "markdown",
   "metadata": {},
   "source": [
    "# REFERENCIAS"
   ]
  },
  {
   "cell_type": "markdown",
   "metadata": {},
   "source": [
    "**Phd. Jose R. Zapata**\n",
    "- [https://joserzapata.github.io/](https://joserzapata.github.io/)\n",
    "- https://twitter.com/joserzapata\n",
    "- joser.zapata@upb.edu.co"
   ]
  }
 ],
 "metadata": {
  "hide_input": false,
  "kernelspec": {
   "display_name": "Python 3",
   "language": "python",
   "name": "python3"
  },
  "language_info": {
   "codemirror_mode": {
    "name": "ipython",
    "version": 3
   },
   "file_extension": ".py",
   "mimetype": "text/x-python",
   "name": "python",
   "nbconvert_exporter": "python",
   "pygments_lexer": "ipython3",
   "version": "3.7.4"
  },
  "nbTranslate": {
   "displayLangs": [
    "es",
    "en"
   ],
   "hotkey": "alt-t",
   "langInMainMenu": true,
   "sourceLang": "en",
   "targetLang": "es",
   "useGoogleTranslate": true
  },
  "toc": {
   "base_numbering": 1,
   "nav_menu": {},
   "number_sections": true,
   "sideBar": true,
   "skip_h1_title": false,
   "title_cell": "Contenido",
   "title_sidebar": "Contenido",
   "toc_cell": true,
   "toc_position": {
    "height": "calc(100% - 180px)",
    "left": "10px",
    "top": "150px",
    "width": "378.523px"
   },
   "toc_section_display": true,
   "toc_window_display": true
  },
  "varInspector": {
   "cols": {
    "lenName": 16,
    "lenType": 16,
    "lenVar": 40
   },
   "kernels_config": {
    "python": {
     "delete_cmd_postfix": "",
     "delete_cmd_prefix": "del ",
     "library": "var_list.py",
     "varRefreshCmd": "print(var_dic_list())"
    },
    "r": {
     "delete_cmd_postfix": ") ",
     "delete_cmd_prefix": "rm(",
     "library": "var_list.r",
     "varRefreshCmd": "cat(var_dic_list()) "
    }
   },
   "types_to_exclude": [
    "module",
    "function",
    "builtin_function_or_method",
    "instance",
    "_Feature"
   ],
   "window_display": false
  }
 },
 "nbformat": 4,
 "nbformat_minor": 2
}
