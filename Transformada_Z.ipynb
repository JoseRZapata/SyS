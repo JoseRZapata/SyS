{
 "cells": [
  {
   "cell_type": "markdown",
   "metadata": {},
   "source": [
    "# TRANSFORMADA Z<a class=\"tocSkip\">\n",
    "## SISTEMAS Y SEÑALES <a class=\"tocSkip\">\n",
    "### Ingenieria de Telecomunicaciones <a class=\"tocSkip\">\n",
    "### Universidad Pontificia Bolivariana <a class=\"tocSkip\">   \n",
    "### Por: Jose R. Zapata - [https://joserzapata.github.io/](https://joserzapata.github.io/) <a class=\"tocSkip\">\n",
    "**joser.zapata@upb.edu.co**"
   ]
  },
  {
   "cell_type": "code",
   "execution_count": 1,
   "metadata": {},
   "outputs": [
    {
     "data": {
      "text/html": [
       "<script>\n",
       "  function code_toggle() {\n",
       "    if (code_shown){\n",
       "      $('div.input').hide('500');\n",
       "      $('#toggleButton').val('Ver el Codigo de Python')\n",
       "    } else {\n",
       "      $('div.input').show('500');\n",
       "      $('#toggleButton').val('Ocultar el Codigo')\n",
       "    }\n",
       "    code_shown = !code_shown\n",
       "  }\n",
       "\n",
       "  $( document ).ready(function(){\n",
       "    code_shown=false;\n",
       "    $('div.input').hide()\n",
       "  });\n",
       "</script>\n",
       "<form action=\"javascript:code_toggle()\">\n",
       "<input type=\"submit\" id=\"toggleButton\" value=\"Ver el Codigo de Python\"></form>"
      ],
      "text/plain": [
       "<IPython.core.display.HTML object>"
      ]
     },
     "execution_count": 1,
     "metadata": {},
     "output_type": "execute_result"
    }
   ],
   "source": [
    "# Script para ver y ocultar el codigo del jupyter\n",
    "from IPython.display import HTML\n",
    "\n",
    "HTML('''<script>\n",
    "  function code_toggle() {\n",
    "    if (code_shown){\n",
    "      $('div.input').hide('500');\n",
    "      $('#toggleButton').val('Ver el Codigo de Python')\n",
    "    } else {\n",
    "      $('div.input').show('500');\n",
    "      $('#toggleButton').val('Ocultar el Codigo')\n",
    "    }\n",
    "    code_shown = !code_shown\n",
    "  }\n",
    "\n",
    "  $( document ).ready(function(){\n",
    "    code_shown=false;\n",
    "    $('div.input').hide()\n",
    "  });\n",
    "</script>\n",
    "<form action=\"javascript:code_toggle()\">\n",
    "<input type=\"submit\" id=\"toggleButton\" value=\"Ver el Codigo de Python\"></form>''')"
   ]
  },
  {
   "cell_type": "markdown",
   "metadata": {
    "toc": true
   },
   "source": [
    "<h1>Contenido<span class=\"tocSkip\"></span></h1>\n",
    "<div class=\"toc\"><ul class=\"toc-item\"><li><span><a href=\"#Definición\" data-toc-modified-id=\"Definición-1\"><span class=\"toc-item-num\">1&nbsp;&nbsp;</span>Definición</a></span><ul class=\"toc-item\"><li><span><a href=\"#Transformada-Bilateral-Z\" data-toc-modified-id=\"Transformada-Bilateral-Z-1.1\"><span class=\"toc-item-num\">1.1&nbsp;&nbsp;</span>Transformada Bilateral Z</a></span></li><li><span><a href=\"#Transformada-Unilateral-Z\" data-toc-modified-id=\"Transformada-Unilateral-Z-1.2\"><span class=\"toc-item-num\">1.2&nbsp;&nbsp;</span>Transformada Unilateral Z</a></span></li><li><span><a href=\"#Transformada-Z-inversa\" data-toc-modified-id=\"Transformada-Z-inversa-1.3\"><span class=\"toc-item-num\">1.3&nbsp;&nbsp;</span>Transformada Z inversa</a></span></li></ul></li><li><span><a href=\"#Región-de-Convergencia\" data-toc-modified-id=\"Región-de-Convergencia-2\"><span class=\"toc-item-num\">2&nbsp;&nbsp;</span>Región de Convergencia</a></span></li><li><span><a href=\"#Propiedades\" data-toc-modified-id=\"Propiedades-3\"><span class=\"toc-item-num\">3&nbsp;&nbsp;</span>Propiedades</a></span></li><li><span><a href=\"#Tabla-de-Transformadas-Básicas\" data-toc-modified-id=\"Tabla-de-Transformadas-Básicas-4\"><span class=\"toc-item-num\">4&nbsp;&nbsp;</span>Tabla de Transformadas Básicas</a></span></li><li><span><a href=\"#REFERENCIAS\" data-toc-modified-id=\"REFERENCIAS-5\"><span class=\"toc-item-num\">5&nbsp;&nbsp;</span>REFERENCIAS</a></span></li></ul></div>"
   ]
  },
  {
   "cell_type": "code",
   "execution_count": 2,
   "metadata": {},
   "outputs": [],
   "source": [
    "# Importar librerias basicas\n",
    "import numpy as np\n",
    "import matplotlib.pyplot as plt\n",
    "import sympy as sym\n",
    "\n",
    "%matplotlib inline\n",
    "plt.style.use('bmh') # estilo de las graficas\n",
    "from IPython.display import Latex # para visualizar ecuaciones en jupyter"
   ]
  },
  {
   "cell_type": "markdown",
   "metadata": {},
   "source": [
    "# Definición\n",
    "la transformada $Z$ es una transformación que representa una señal discreta $x[k]$ en el dominio espectral. Se basa en la función exponencial compleja $z^{-k}$ con $z \\in \\mathbb{C}$ como señal base.\n",
    "\n",
    "## Transformada Bilateral Z\n",
    "\n",
    "$$\n",
    "\\large X(z) = \\sum_{k = -\\infty}^{\\infty} x[k] \\, z^{-k}\n",
    "$$\n",
    "\n",
    "## Transformada Unilateral Z\n",
    "Para señales causales tenemos:\n",
    "$$\n",
    "\\large \\boxed{X(z) = \\sum_{k = 0}^{\\infty} x[k] \\, z^{-k}}\n",
    "$$\n",
    "\n",
    "## Transformada Z inversa \n",
    "$$\n",
    "\\large \\boxed{x[k] = \\frac{1}{2 \\pi j} \\oint_{C} X(z) \\, z^{k - 1} \\; dz}\n",
    "$$\n",
    "\n",
    "\n",
    "# Región de Convergencia\n",
    "La transformada Z converge si es absolutamente sumable\n",
    "\n",
    "$$\n",
    " \\sum_{k = -\\infty}^{\\infty} | x[k] \\cdot z^{- k} | = \\sum_{k = -\\infty}^{\\infty} | x[k] | \\cdot | z |^{- k}  < \\infty\n",
    "$$\n",
    "\n"
   ]
  },
  {
   "cell_type": "markdown",
   "metadata": {},
   "source": [
    "# Propiedades\n",
    "\n",
    "| &#65279; | $x[k]$ | $X(z) = \\mathcal{Z} \\{ x[k] \\}$ | Region de convergencia (ROC) |\n",
    "|:---|:---:|:---:|:---|\n",
    "| Linealidad | $A \\, x_1[k] + B \\, x_2[k]$ | $A \\, X_1(z) + B \\, X_2(z)$ | $\\supseteq \\text{ROC}\\{x_1[k]\\} \\cap \\text{ROC}\\{x_2[k]\\}$ |\n",
    "| Conjugacion | $x^*[k]$ | $X^*(z^*)$ | $\\text{ROC}\\{ x[k] \\}$ |\n",
    "| Señales Reales | $x[k] = x^*[k]$ | $X(z) = X^*(z^*)$ | |\n",
    "| Convolucion Lineal | $x[k] * h[k]$ | $X(z) \\cdot H(z)$ | $\\supseteq \\text{ROC}\\{x[k]\\} \\cap \\text{ROC}\\{h[k]\\}$ |\n",
    "| Desplazamiento en el tiempo | $x[k - \\kappa]$ | $z^{- \\kappa} \\cdot X(z)$ | $\\supseteq \\text{ROC}\\{x[k]\\} \\setminus \\{0, \\infty \\}$ |\n",
    "| Modulacion | $z_0^k \\cdot x[k]$ | $X\\left( \\frac{z}{z_0} \\right)$ | $\\{z: \\frac{z}{z_0} \\in \\text{ROC} \\{ x[k] \\} \\}$ |\n",
    "| Inversion | $x[-k]$ | $X \\left( \\frac{1}{z} \\right)$ | $\\{z: \\frac{1}{z} \\in \\text{ROC} \\{ x[k] \\} \\}$ |\n",
    " \n",
    "Donde $A, B, z_0 \\in \\mathbb{C}$ y $\\kappa \\in \\mathbb{Z}$"
   ]
  },
  {
   "cell_type": "markdown",
   "metadata": {},
   "source": [
    "# Tabla de Transformadas Básicas\n",
    "\n",
    "| $x[k]$ | $X(z) = \\mathcal{Z} \\{ x[k] \\}$ | ROC |\n",
    "|:---:|:---:|:---|\n",
    "| $\\delta[k]$ | $1$ | $\\mathbb{C}$ |\n",
    "| $\\epsilon[k]$ | $\\frac{z}{z-1}$ | $|z| > 1$ |\n",
    "| $k \\epsilon[k]$ | $\\frac{z}{(z-1)^2}$ | $|z| > 1$ |\n",
    "| $z_0^{k} \\epsilon[k]$ | $\\frac{z}{z - z_0}$ | $|z| > |z_0|$ |\n",
    "| $-z_0^{k} \\epsilon[-k-1]$ | $\\frac{z}{z - z_0}$ | $|z| < |z_0|$ |\n",
    "| $\\sin(\\Omega_0 k) \\epsilon[k]$ | $\\frac{z \\sin(\\Omega_0)}{z^2 - 2 z \\cos(\\Omega_0) + 1}$ | $|z| > 1$ |\n",
    "| $\\cos(\\Omega_0 k) \\epsilon[k]$ | $\\frac{z ( z - \\cos(\\Omega_0))}{z^2 - 2 z \\cos(\\Omega_0) + 1}$ | $|z| > 1$ |\n",
    "\n",
    "Donde $z_0 \\in \\mathbb{C}$, $\\Omega_0 \\in \\mathbb{R}$ y $n \\in \\mathbb{N}$. "
   ]
  },
  {
   "cell_type": "markdown",
   "metadata": {},
   "source": [
    "# REFERENCIAS\n",
    "- https://nbviewer.jupyter.org/github/spatialaudio/signals-and-systems-lecture/blob/master/z_transform/definition.ipynb\n",
    "- https://nbviewer.jupyter.org/github/spatialaudio/signals-and-systems-lecture/blob/master/z_transform/properties.ipynb\n",
    "- https://nbviewer.jupyter.org/github/spatialaudio/signals-and-systems-lecture/blob/master/z_transform/theorems.ipynb\n",
    "- https://nbviewer.jupyter.org/github/spatialaudio/signals-and-systems-lecture/blob/master/z_transform/table_theorems_transforms.ipynb"
   ]
  },
  {
   "cell_type": "markdown",
   "metadata": {},
   "source": [
    "**Phd. Jose R. Zapata**\n",
    "- [https://joserzapata.github.io/](https://joserzapata.github.io/)\n",
    "- https://twitter.com/joserzapata\n",
    ""
   ]
  }
 ],
 "metadata": {
  "hide_input": false,
  "kernelspec": {
   "display_name": "Python 3",
   "language": "python",
   "name": "python3"
  },
  "language_info": {
   "codemirror_mode": {
    "name": "ipython",
    "version": 3
   },
   "file_extension": ".py",
   "mimetype": "text/x-python",
   "name": "python",
   "nbconvert_exporter": "python",
   "pygments_lexer": "ipython3",
   "version": "3.7.4"
  },
  "toc": {
   "base_numbering": 1,
   "nav_menu": {},
   "number_sections": true,
   "sideBar": true,
   "skip_h1_title": false,
   "title_cell": "Contenido",
   "title_sidebar": "Contenido",
   "toc_cell": true,
   "toc_position": {},
   "toc_section_display": true,
   "toc_window_display": false
  },
  "varInspector": {
   "cols": {
    "lenName": 16,
    "lenType": 16,
    "lenVar": 40
   },
   "kernels_config": {
    "python": {
     "delete_cmd_postfix": "",
     "delete_cmd_prefix": "del ",
     "library": "var_list.py",
     "varRefreshCmd": "print(var_dic_list())"
    },
    "r": {
     "delete_cmd_postfix": ") ",
     "delete_cmd_prefix": "rm(",
     "library": "var_list.r",
     "varRefreshCmd": "cat(var_dic_list()) "
    }
   },
   "types_to_exclude": [
    "module",
    "function",
    "builtin_function_or_method",
    "instance",
    "_Feature"
   ],
   "window_display": false
  }
 },
 "nbformat": 4,
 "nbformat_minor": 2
}
