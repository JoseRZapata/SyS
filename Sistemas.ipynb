{
 "cells": [
  {
   "cell_type": "markdown",
   "metadata": {},
   "source": [
    "# SISTEMAS (Caracteristicas y Propiedades)<a class=\"tocSkip\">\n",
    "## SISTEMAS Y SEÑALES <a class=\"tocSkip\">\n",
    "### Ingenieria de Telecomunicaciones <a class=\"tocSkip\">\n",
    "### Universidad Pontificia Bolivariana <a class=\"tocSkip\">   \n",
    "### Por: Jose R. Zapata - [https://joserzapata.github.io/](https://joserzapata.github.io/) <a class=\"tocSkip\">\n",
    "**joser.zapata@upb.edu.co**"
   ]
  },
  {
   "cell_type": "markdown",
   "metadata": {
    "toc": true
   },
   "source": [
    "<h1>Contenido<span class=\"tocSkip\"></span></h1>\n",
    "<div class=\"toc\"><ul class=\"toc-item\"><li><span><a href=\"#Representación-de-sistemas\" data-toc-modified-id=\"Representación-de-sistemas-1\"><span class=\"toc-item-num\">1&nbsp;&nbsp;</span>Representación de sistemas</a></span><ul class=\"toc-item\"><li><span><a href=\"#Sistemas-Contínuos\" data-toc-modified-id=\"Sistemas-Contínuos-1.1\"><span class=\"toc-item-num\">1.1&nbsp;&nbsp;</span>Sistemas Contínuos</a></span></li><li><span><a href=\"#Sistemas-Discretos\" data-toc-modified-id=\"Sistemas-Discretos-1.2\"><span class=\"toc-item-num\">1.2&nbsp;&nbsp;</span>Sistemas Discretos</a></span></li></ul></li><li><span><a href=\"#Entradas-y-salidas-de-un-sistema\" data-toc-modified-id=\"Entradas-y-salidas-de-un-sistema-2\"><span class=\"toc-item-num\">2&nbsp;&nbsp;</span>Entradas y salidas de un sistema</a></span></li><li><span><a href=\"#Interconexion-de-Sistemas\" data-toc-modified-id=\"Interconexion-de-Sistemas-3\"><span class=\"toc-item-num\">3&nbsp;&nbsp;</span>Interconexion de Sistemas</a></span><ul class=\"toc-item\"><li><span><a href=\"#Inteconexión-en-serie\" data-toc-modified-id=\"Inteconexión-en-serie-3.1\"><span class=\"toc-item-num\">3.1&nbsp;&nbsp;</span>Inteconexión en serie</a></span></li><li><span><a href=\"#Inteconexión-en-Paralelo\" data-toc-modified-id=\"Inteconexión-en-Paralelo-3.2\"><span class=\"toc-item-num\">3.2&nbsp;&nbsp;</span>Inteconexión en Paralelo</a></span></li><li><span><a href=\"#Interconexión-serie-paralelo\" data-toc-modified-id=\"Interconexión-serie-paralelo-3.3\"><span class=\"toc-item-num\">3.3&nbsp;&nbsp;</span>Interconexión serie-paralelo</a></span></li><li><span><a href=\"#Interconexión-con-retroalimentación\" data-toc-modified-id=\"Interconexión-con-retroalimentación-3.4\"><span class=\"toc-item-num\">3.4&nbsp;&nbsp;</span>Interconexión con retroalimentación</a></span></li></ul></li><li><span><a href=\"#Propiedades-de-los-Sistemas\" data-toc-modified-id=\"Propiedades-de-los-Sistemas-4\"><span class=\"toc-item-num\">4&nbsp;&nbsp;</span>Propiedades de los Sistemas</a></span><ul class=\"toc-item\"><li><span><a href=\"#Memoria\" data-toc-modified-id=\"Memoria-4.1\"><span class=\"toc-item-num\">4.1&nbsp;&nbsp;</span>Memoria</a></span></li><li><span><a href=\"#Invertibilidad\" data-toc-modified-id=\"Invertibilidad-4.2\"><span class=\"toc-item-num\">4.2&nbsp;&nbsp;</span>Invertibilidad</a></span></li><li><span><a href=\"#Estabilidad\" data-toc-modified-id=\"Estabilidad-4.3\"><span class=\"toc-item-num\">4.3&nbsp;&nbsp;</span>Estabilidad</a></span></li><li><span><a href=\"#Causalidad\" data-toc-modified-id=\"Causalidad-4.4\"><span class=\"toc-item-num\">4.4&nbsp;&nbsp;</span>Causalidad</a></span></li><li><span><a href=\"#Invarianza-en-el-tiempo\" data-toc-modified-id=\"Invarianza-en-el-tiempo-4.5\"><span class=\"toc-item-num\">4.5&nbsp;&nbsp;</span>Invarianza en el tiempo</a></span></li><li><span><a href=\"#Linealidad\" data-toc-modified-id=\"Linealidad-4.6\"><span class=\"toc-item-num\">4.6&nbsp;&nbsp;</span>Linealidad</a></span></li></ul></li><li><span><a href=\"#REFERENCIAS\" data-toc-modified-id=\"REFERENCIAS-5\"><span class=\"toc-item-num\">5&nbsp;&nbsp;</span>REFERENCIAS</a></span></li></ul></div>"
   ]
  },
  {
   "cell_type": "code",
   "execution_count": 1,
   "metadata": {},
   "outputs": [
    {
     "data": {
      "text/html": [
       "<script>\n",
       "  function code_toggle() {\n",
       "    if (code_shown){\n",
       "      $('div.input').hide('500');\n",
       "      $('#toggleButton').val('Ver el Codigo de Python')\n",
       "    } else {\n",
       "      $('div.input').show('500');\n",
       "      $('#toggleButton').val('Ocultar el Codigo')\n",
       "    }\n",
       "    code_shown = !code_shown\n",
       "  }\n",
       "\n",
       "  $( document ).ready(function(){\n",
       "    code_shown=false;\n",
       "    $('div.input').hide()\n",
       "  });\n",
       "</script>\n",
       "<form action=\"javascript:code_toggle()\">\n",
       "<input type=\"submit\" id=\"toggleButton\" value=\"Ver el Codigo de Python\"></form>"
      ],
      "text/plain": [
       "<IPython.core.display.HTML object>"
      ]
     },
     "execution_count": 1,
     "metadata": {},
     "output_type": "execute_result"
    }
   ],
   "source": [
    "# Script para ver y ocultar el codigo del jupyter\n",
    "from IPython.display import HTML\n",
    "\n",
    "HTML('''<script>\n",
    "  function code_toggle() {\n",
    "    if (code_shown){\n",
    "      $('div.input').hide('500');\n",
    "      $('#toggleButton').val('Ver el Codigo de Python')\n",
    "    } else {\n",
    "      $('div.input').show('500');\n",
    "      $('#toggleButton').val('Ocultar el Codigo')\n",
    "    }\n",
    "    code_shown = !code_shown\n",
    "  }\n",
    "\n",
    "  $( document ).ready(function(){\n",
    "    code_shown=false;\n",
    "    $('div.input').hide()\n",
    "  });\n",
    "</script>\n",
    "<form action=\"javascript:code_toggle()\">\n",
    "<input type=\"submit\" id=\"toggleButton\" value=\"Ver el Codigo de Python\"></form>''')"
   ]
  },
  {
   "cell_type": "markdown",
   "metadata": {},
   "source": [
    "Los sistemas se usan para procesar una señal con el objetivo de modificarla, por ejemplo sumar o restar informacion adicional. \n",
    "\n",
    "Un sistema puede considerarse como un proceso en el cual las señales de entrada son transformadas o modificadas\n",
    "y se obtienen nuevas señales a la salida del sistema."
   ]
  },
  {
   "cell_type": "markdown",
   "metadata": {},
   "source": [
    "\n",
    "# Representación de sistemas\n",
    "\n",
    "Un sistema para análisis y diseño es una representación de un proceso físico, que relaciona las señales de entrada $x(t)$ y las señales de salida $y(t)$ obtenidas como respuesta.\n",
    "\n",
    "La representación puede ser de tipo matemática o en diagramas de bloques con flechas. El sentido de las flechas indican la entrada o salida.\n",
    "\n",
    "Los sistemas se pueden realizar por:\n",
    "– Componentes físicos (hardware: componentes electrónicos)\n",
    "– Algoritmos (software: calculan la nueva señal a partir de la entrada)\n",
    "\n",
    "## Sistemas Contínuos\n",
    "En un sistema contínuo las señales contínuas de entrada son transformadas en señales contínuas de salida.\n",
    "\n",
    "$$\\large x(t) \\rightarrow y(t)$$\n",
    "\n",
    "![Sistema continuo](img/fiec05058Sistema01.png)\n",
    "\n",
    "**Ejemplo:** Un sistema de transmision A.M o transmision F.M\n",
    "\n",
    "## Sistemas Discretos\n",
    "Cuando las entradas de tiempo discreto se transforman en en salidas de tiempo discreto, al sistema se denomina «sistema discreto».\n",
    "\n",
    "$$\\large x[n] \\rightarrow y[n]$$\n",
    "\n",
    "![Sistema discreto](img/fiec05058Sistema02.png)\n",
    "\n",
    "**Ejemplo:** Sistema de transmision de datos de una computadora\n",
    "\n",
    "# Entradas y salidas de un sistema\n",
    "Los sistemas pueden tener.\n",
    "\n",
    "– Una entrada y una salida (SISO – Single Input, Single output)\n",
    "– Varias entradas, varias salidas (MIMO – Multiple Input, Multiple output)\n",
    "\n",
    "Un sistema puede estar compuesto de subsistemas interconectados, caracterizados por sus terminales de entrada y salida.\n",
    "\n",
    "# Interconexion de Sistemas\n",
    "\n",
    "Los sistemas pueden crearse a partir de subsistemas más sencillos. La interconexion entre los sistemas permite resolver problemas de mayor complejidad.\n",
    "\n",
    "La interconexión de dos sistemas puede ser realizada de tres maneras:\n",
    "\n",
    "1. Interconexión en serie (cascada)\n",
    "2. Interconexión en paralelo\n",
    "3. Interconexión en serie-paralelo\n",
    "4. Interconexión con retroalimentación.\n",
    "   \n",
    "Para ilustrar las formas de interconexión de forma gráfica se usan los diagramas de bloques, al interconectar las salidas y entradas entre bloques.\n",
    "\n",
    "## Inteconexión en serie\n",
    "![Conexion serie](img/fiec05058Sistema03.png)\n",
    "\n",
    "Los subsistemas se conectan secuencialmente usando la salida a una entrada.\n",
    "\n",
    "**Ejemplo:** la salida de video de la computadora hacia la entrada de video del proyector en el aula de clases, usada para proyectar el contenido del curso.\n",
    "\n",
    "## Inteconexión en Paralelo\n",
    "![Conexion paralelo](img/fiec05058Sistema04.png)\n",
    "\n",
    "La señal de entrada se aplica simultaneamente o en paralelo a dos los subsistemas, el símbolo ‘+’ expresa que el resultado es la suma de los resultados de los sistemas 1 y 2.\n",
    "\n",
    "**Ejemplo:** un sistema de mezcla de sonido proveniente de varios microfonos e instrumentos musicales.\n",
    "\n",
    "## Interconexión serie-paralelo\n",
    "![Conexion serie](img/fiec05058Sistema05.png)\n",
    "\n",
    "Estos sistemas son una combinacion de sistemas en serie y paralelo, La mayoria de sistemas son del tipo serie-paralelo.\n",
    "\n",
    "## Interconexión con retroalimentación\n",
    "![Conexion serie](img/fiec05058Sistema06.png)\n",
    "\n",
    "Los sistemas retroalimentados permiten «regular» la salida «observando una parte de la misma.\n",
    "\n",
    "**Ejemplo:** El sistema de control de potencia de transmision en un celular, El motor de un ascensor, etc.\n",
    "\n",
    "\n",
    "\n",
    "\n",
    "\n",
    "\n",
    "\n",
    "\n",
    "\n",
    "\n"
   ]
  },
  {
   "cell_type": "markdown",
   "metadata": {},
   "source": [
    "# Propiedades de los Sistemas\n",
    "1. Memoria\n",
    "2. Invertibilidad\n",
    "3. Estabilidad\n",
    "4. Causalidad\n",
    "5. Invarianza en el tiempo\n",
    "6. Linealidad\n",
    "\n",
    "\n",
    "\n",
    "## Memoria\n",
    "Si la salida de un sistema depende solo del valor aplicado en la entrada actualmente, se dice que el sistema es _sin memoria_.\n",
    "\n",
    "$$ \\large y[n] = (x[n]^2- 4x[n] )^3 $$\n",
    "\n",
    "Si el sistema depende de los valores anteriores de la entrada, se lo considera _con memoria_. \n",
    "\n",
    "$$ \\large y[n]= x[n-1] +2x[n-3]$$ \n",
    "\n",
    "Los sistemas sin memoria también se conocen como instantaneos, que son un caso particular de los sistemas dinámicos (con memoria).\n",
    "\n",
    "Un sistema cuya respuesta en $t$ está determinada por los anteriores $T$ segundos, es decir el intervalo $(t–T)$, se lo conoce como «sistema con memoria finita»\n",
    "\n",
    "## Invertibilidad\n",
    "Un sistema es invertible si entradas distintas producen salidas distintas.\n",
    "\n",
    "Dada una salida, es posible deducir la entrada que la provocó.(Biyectiva).\n",
    "\n",
    "Para un sistema invertible hay un sistema inverso\n",
    "que, conectado en cascada con aquél, produce una salida igual a su entrada.\n",
    "\n",
    "\n",
    "$$ \\large y(t)= 2x(t) \\rightarrow x(t) = \\frac{1}{2}y(t)$$\n",
    "\n",
    "\n",
    "$$\\large y(t)= x(t)^2$$\n",
    "\n",
    "## Estabilidad\n",
    "Un sistema es _estable_ si para una entrada de valor limitado la salida también es limitada y no diverge.\n",
    "En otras palabras, si el sistema tiene como entrada un valor finito la salida debe ser finita para que exista estabilidad, los sistemas _inestables_ tienen una entrada finita y su salida se vuelve muy grande tendiendo a infinito.\n",
    "\n",
    "## Causalidad\n",
    "Un sistema es **CAUSAL** (no-anticipativo o físico) si la salida $y(t)$ en un valor arbitrario de tiempo $t=t_0$ depende solo de la entrada $x(t)$ para $t ≤ t_0$ , es decir depende solo de los valores presentes y/o pasados de la entrada; no depende de valores futuros.\n",
    "\n",
    "No es posible obtener una salida antes que se aplique la entrada.\n",
    "\n",
    "$$ \\large y(t) = x(t - 1)$$\n",
    "\n",
    "si $t$ es en segundos, la salida depende de los valores de $x$ hace un segundo o $(t-1)$\n",
    "\n",
    "En el caso contrario, los sistemas **NO CAUSALES** muestran una salida anticipada a la señal de entrada:\n",
    "\n",
    "$$\\large y(t) = x(t + 1)$$\n",
    "\n",
    "si $t$ es en segundos, la salida depende de los valores que $x$ tendría un segundo después o $(t+1)$.  Si $t$ es en días, la situación se vuelve complicada de realizar, es como decir: para determinar el valor de la variable $y(t)$ HOY, necesitamos conocer el valor de $x(t+1)$ que es MAÑANA.\n",
    "\n",
    "Los sistemas no-casuales por tener variable independiente referenciada a tiempo futuro, no se pueden implementar en tiempo real. Sin embargo si los sistemas no causales se realizan con variables diferentes al tiempo, por ejemplo espacio se podrían implementar.\n",
    "\n",
    "\n",
    "## Invarianza en el tiempo\n",
    "\n",
    "Si el comportamiento de un sistema y las características del mismo están fijos en el tiempo, se los llama invariantes en el tiempo.\n",
    "\n",
    "Expresando lo mismo como:\n",
    "Un sistema es **Invariante en el tiempo** si aun corrimiento de tiempo en la señal de entrada ocasiona un corrimiento en el tiempo en la señal de salida.\n",
    "\n",
    "$$ \\large y(t) = x(t) \\\\\n",
    "y(t-t_0) = x(t-t_0)$$\n",
    "\n",
    "**Ejemplo** (Oppenheim 1.14):\n",
    "\n",
    "considere un sistema definido como:\n",
    "\n",
    "$$\\large y(t) = \\sin(x(t)) \\text{, siendo x(t)=t} $$\n",
    "$$\\large  y(t-t_0) = \\sin(x(t - t_0)) $$"
   ]
  },
  {
   "cell_type": "code",
   "execution_count": 2,
   "metadata": {},
   "outputs": [],
   "source": [
    "# Importar librerias basicas\n",
    "import numpy as np\n",
    "import matplotlib.pyplot as plt\n",
    "import sympy as sym\n",
    "\n",
    "%matplotlib inline\n",
    "plt.style.use('bmh') # estilo de las graficas\n",
    "from IPython.display import Latex # para visualizar ecuaciones en jupyter"
   ]
  },
  {
   "cell_type": "code",
   "execution_count": 3,
   "metadata": {},
   "outputs": [
    {
     "data": {
      "image/png": "[encoded data removed]",
      "text/plain": [
       "<Figure size 720x360 with 1 Axes>"
      ]
     },
     "metadata": {
      "needs_background": "light"
     },
     "output_type": "display_data"
    }
   ],
   "source": [
    "# Sistemas – Invariantes en el tiempo\n",
    "# Oppenheim 1.14\n",
    "import numpy as np\n",
    "\n",
    "# INGRESO\n",
    "a = 0; b = 2*np.pi ; dt=0.1\n",
    "t0 = 1\n",
    "\n",
    "xt = lambda t: t\n",
    "yt = lambda t: np.sin(xt(t))\n",
    "\n",
    "# PROCEDIMIENTO\n",
    "t = np.arange(a,b,dt)\n",
    "\n",
    "x1 = xt(t)\n",
    "y1 = yt(t)\n",
    "\n",
    "\n",
    "# Corrimiento en la entrada\n",
    "t2x = t + t0\n",
    "x2 = x1\n",
    "# efecto en salida\n",
    "t2y = t + t0\n",
    "y2 = y1\n",
    "\n",
    "# evaluación de tiempos desplazados\n",
    "y3 = yt(t-t0)\n",
    "\n",
    "# SALIDA - GRAFICA\n",
    "import matplotlib.pyplot as plt\n",
    "plt.figure(figsize=(10,5))\n",
    "\n",
    "plt.plot(t,y1, label='y1(t)')\n",
    "plt.plot(t2y,y2, 'm.', label='y2(t)')\n",
    "plt.plot(t,y3, label='y1(t-t0)')\n",
    "\n",
    "plt.xlabel('t')\n",
    "plt.legend()\n",
    "plt.show()"
   ]
  },
  {
   "cell_type": "markdown",
   "metadata": {},
   "source": [
    "Por otro lado, si la respuesta de la señal se modifica en el tiempo, el sistema será **VARIANTE** en el tiempo:\n",
    "\n",
    "Ejemplo (Oppenheim 1.14):\n",
    "\n",
    "Considere el sistema:\n",
    "$$\\large y(t) = x(2t)$$\n",
    "\n",
    "que tiene escalamiento en el tiempo. $y(t)$ es una versión comprimida de $x(t)$. Los corrimientos/desplazamientos en el tiempo también serán comprimidos por un factor de 2, por lo que por ésta razón el sistema no es invariante en el tiempo."
   ]
  },
  {
   "cell_type": "code",
   "execution_count": 4,
   "metadata": {},
   "outputs": [
    {
     "data": {
      "image/png": "[encoded data removed]",
      "text/plain": [
       "<Figure size 720x432 with 3 Axes>"
      ]
     },
     "metadata": {
      "needs_background": "light"
     },
     "output_type": "display_data"
    }
   ],
   "source": [
    "# Sistemas – Invariantes en el tiempo\n",
    "# Oppenheim 1.16 p52/pdf80\n",
    "import numpy as np\n",
    "\n",
    "# INGRESO\n",
    "a = -5; b = 5 ; dt=0.1\n",
    "t0 = 2\n",
    "\n",
    "u = lambda t: np.piecewise(t,t>=0,[1,0])\n",
    "xt = lambda t: u(t+2)-u(t-2)\n",
    "yt = lambda t: xt(2*t)\n",
    "\n",
    "# PROCEDIMIENTO\n",
    "t = np.arange(a,b,dt)\n",
    "\n",
    "x1 = xt(t)\n",
    "y1 = yt(t)\n",
    "\n",
    "# Corrimiento en la entrada\n",
    "t2x = t + t0\n",
    "x2 = x1\n",
    "# efecto compresor en salida\n",
    "t2y = t + t0/2\n",
    "y2 = y1\n",
    "\n",
    "# evaluación de tiempos desplazados\n",
    "x3 = xt(t-t0)\n",
    "y3 = yt(t-t0)\n",
    "\n",
    "# SALIDA - GRAFICA\n",
    "import matplotlib.pyplot as plt\n",
    "plt.figure(figsize=(10,6))\n",
    "plt.subplot(311)\n",
    "plt.xlim([min(t),max(t)])\n",
    "plt.plot(t,x1, label='x1(t)')\n",
    "plt.plot(t,y1, label='y1(t)')\n",
    "plt.legend()\n",
    "\n",
    "plt.subplot(312)\n",
    "plt.xlim([min(t),max(t)])\n",
    "plt.plot(t2x,x2, label='x2(t)=x1(t-t0)')\n",
    "plt.plot(t2y,y2, label='y2(t)')\n",
    "plt.legend()\n",
    "\n",
    "plt.subplot(313)\n",
    "plt.xlim([min(t),max(t)])\n",
    "plt.plot(t,y3,color ='orange', label='y1(t-t0)')\n",
    "plt.xlabel('t')\n",
    "plt.legend()\n",
    "plt.show()"
   ]
  },
  {
   "cell_type": "markdown",
   "metadata": {},
   "source": [
    "El sistema tiene una relación de entrada-salida dada por:\n",
    "\n",
    "$\\large y(t) = x(2t)$ y $\\large t_0$ es un desplazamiento en el tiempo.\n",
    "\n",
    "Sea $\\large y_2(t)$ la respuesta a $\\large x_2(t) = x(t-t_0)$ entonces:\n",
    "\n",
    "$\\large y_2(t) = x_2(2t) = x(2t-t_0)$\n",
    "\n",
    "$\\large y(t-t_0) = x(2(t-t_0))$\n",
    "\n",
    "$\\large y(t-t0) \\neq y_2(t)$, por lo que el sistema no es invariante en el tiempo. \n",
    "El sistema $\\large x(2t)$ se conoce como compresor, pues crea una secuencia de salida cada 2 valores de la secuencia de entrada."
   ]
  },
  {
   "cell_type": "markdown",
   "metadata": {},
   "source": [
    "## Linealidad\n",
    "\n",
    "Un sistema es lineal si satisface el principio de superposición, que engloba las propiedades de **escalado (homogeneidad)** y **aditividad**.\n",
    "\n",
    "En un sistema lineal tiene salida proporcional a su entrada y si la entrada es cero la salida debe ser cero.\n",
    "\n",
    "Un sistema lineal tiene la propiedad de **aditividad**, es decir, la respuesta a una suma de señales  en la entrada es igual a la suma de las entradas individuales.\n",
    "\n",
    "1. La respuesta a:  $\\large x_1(t) + x_2(t) = y_1(t) + y_2(t)$\n",
    "2. La respuesta a:  $\\large \\alpha x1(t)$  es $\\large \\alpha y1(t)$, donde $\\large \\alpha$ es una constante real o compleja cualquiera.\n",
    "\n",
    "El numeral 2 se conoce como la propiedad de **escalamiento u homogeneidad**.\n",
    "\n",
    "La propiedad de **Superposición** se plantea como una combinación de las propiedades anteriores, osea que cumpla **Aditividad** y **Homogeneidad**:\n",
    "\n",
    "en tiempo contínuo: \n",
    "$$\\large \\alpha x_1(t) + \\beta x_2(t) → \\alpha y_1(t) + \\beta y_2(t)$$\n",
    "en tiempo discreto:  \n",
    "$$\\large \\alpha x_1[n] + \\beta x_2[n] → \\alpha y_1[n] + \\beta y_2[n]$$\n",
    "\n",
    "![cantantes](img/cantante03.png)\n",
    "\n",
    "En el curso nos enfocaremos principalmente en los sistemas Lineales e invariantes en el tiempo, que son llamados **Sistemas LTI** (Linear Time Invariance)"
   ]
  },
  {
   "cell_type": "markdown",
   "metadata": {},
   "source": [
    "# REFERENCIAS\n",
    "* Oppenheim 1.5\n",
    "* Oppenheim 1.5.2\n",
    "* Oppenheim 1.6.1\n",
    "* Oppenheim 1.6.3\n",
    "* Oppenheim 1.6.5\n",
    "* Oppenheim 1.6.6\n",
    "* http://enrique.sanchez.webs.uvigo.es/PDFs/125_TemaI-Senales.pdf\n",
    "* http://blog.espol.edu.ec/telg1001/sistemas/"
   ]
  },
  {
   "cell_type": "markdown",
   "metadata": {},
   "source": [
    "**Phd. Jose R. Zapata**\n",
    "- [https://joserzapata.github.io/](https://joserzapata.github.io/)\n",
    "- https://twitter.com/joserzapata\n",
    "- joser.zapata@upb.edu.co"
   ]
  }
 ],
 "metadata": {
  "hide_input": false,
  "kernelspec": {
   "display_name": "Python 3",
   "language": "python",
   "name": "python3"
  },
  "language_info": {
   "codemirror_mode": {
    "name": "ipython",
    "version": 3
   },
   "file_extension": ".py",
   "mimetype": "text/x-python",
   "name": "python",
   "nbconvert_exporter": "python",
   "pygments_lexer": "ipython3",
   "version": "3.7.3"
  },
  "toc": {
   "base_numbering": 1,
   "nav_menu": {},
   "number_sections": true,
   "sideBar": true,
   "skip_h1_title": false,
   "title_cell": "Contenido",
   "title_sidebar": "Contenido",
   "toc_cell": true,
   "toc_position": {},
   "toc_section_display": true,
   "toc_window_display": false
  },
  "varInspector": {
   "cols": {
    "lenName": 16,
    "lenType": 16,
    "lenVar": 40
   },
   "kernels_config": {
    "python": {
     "delete_cmd_postfix": "",
     "delete_cmd_prefix": "del ",
     "library": "var_list.py",
     "varRefreshCmd": "print(var_dic_list())"
    },
    "r": {
     "delete_cmd_postfix": ") ",
     "delete_cmd_prefix": "rm(",
     "library": "var_list.r",
     "varRefreshCmd": "cat(var_dic_list()) "
    }
   },
   "types_to_exclude": [
    "module",
    "function",
    "builtin_function_or_method",
    "instance",
    "_Feature"
   ],
   "window_display": false
  }
 },
 "nbformat": 4,
 "nbformat_minor": 2
}
