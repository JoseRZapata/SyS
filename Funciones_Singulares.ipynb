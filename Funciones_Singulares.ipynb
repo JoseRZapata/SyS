{
 "cells": [
  {
   "cell_type": "markdown",
   "metadata": {},
   "source": [
    "# FUNCIONES SINGULARES<a class=\"tocSkip\">\n",
    "## SISTEMAS Y SEÑALES <a class=\"tocSkip\">\n",
    "### Ingenieria de Telecomunicaciones <a class=\"tocSkip\">\n",
    "### Universidad Pontificia Bolivariana <a class=\"tocSkip\">   \n",
    "### Por: Jose R. Zapata - [https://joserzapata.github.io/](https://joserzapata.github.io/) <a class=\"tocSkip\">\n",
    "****"
   ]
  },
  {
   "cell_type": "code",
   "execution_count": 1,
   "metadata": {},
   "outputs": [
    {
     "data": {
      "text/html": [
       "<script>\n",
       "  function code_toggle() {\n",
       "    if (code_shown){\n",
       "      $('div.input').hide('500');\n",
       "      $('#toggleButton').val('Ver el Codigo de Python')\n",
       "    } else {\n",
       "      $('div.input').show('500');\n",
       "      $('#toggleButton').val('Ocultar el Codigo')\n",
       "    }\n",
       "    code_shown = !code_shown\n",
       "  }\n",
       "\n",
       "  $( document ).ready(function(){\n",
       "    code_shown=false;\n",
       "    $('div.input').hide()\n",
       "  });\n",
       "</script>\n",
       "<form action=\"javascript:code_toggle()\">\n",
       "<input type=\"submit\" id=\"toggleButton\" value=\"Ver el Codigo de Python\"></form>"
      ],
      "text/plain": [
       "<IPython.core.display.HTML object>"
      ]
     },
     "execution_count": 1,
     "metadata": {},
     "output_type": "execute_result"
    }
   ],
   "source": [
    "# Script para ver y ocultar el codigo del jupyter\n",
    "from IPython.display import HTML\n",
    "\n",
    "HTML('''<script>\n",
    "  function code_toggle() {\n",
    "    if (code_shown){\n",
    "      $('div.input').hide('500');\n",
    "      $('#toggleButton').val('Ver el Codigo de Python')\n",
    "    } else {\n",
    "      $('div.input').show('500');\n",
    "      $('#toggleButton').val('Ocultar el Codigo')\n",
    "    }\n",
    "    code_shown = !code_shown\n",
    "  }\n",
    "\n",
    "  $( document ).ready(function(){\n",
    "    code_shown=false;\n",
    "    $('div.input').hide()\n",
    "  });\n",
    "</script>\n",
    "<form action=\"javascript:code_toggle()\">\n",
    "<input type=\"submit\" id=\"toggleButton\" value=\"Ver el Codigo de Python\"></form>''')"
   ]
  },
  {
   "cell_type": "markdown",
   "metadata": {
    "toc": true
   },
   "source": [
    "<h1>Contenido<span class=\"tocSkip\"></span></h1>\n",
    "<div class=\"toc\"><ul class=\"toc-item\"><li><span><a href=\"#Discretas\" data-toc-modified-id=\"Discretas-1\"><span class=\"toc-item-num\">1&nbsp;&nbsp;</span>Discretas</a></span><ul class=\"toc-item\"><li><span><a href=\"#Impulso-Unitario-(dirac)\" data-toc-modified-id=\"Impulso-Unitario-(dirac)-1.1\"><span class=\"toc-item-num\">1.1&nbsp;&nbsp;</span>Impulso Unitario (dirac)</a></span></li><li><span><a href=\"#Escalon-Unitario-(Heaviside)\" data-toc-modified-id=\"Escalon-Unitario-(Heaviside)-1.2\"><span class=\"toc-item-num\">1.2&nbsp;&nbsp;</span>Escalon Unitario (Heaviside)</a></span></li><li><span><a href=\"#Rampa\" data-toc-modified-id=\"Rampa-1.3\"><span class=\"toc-item-num\">1.3&nbsp;&nbsp;</span>Rampa</a></span></li><li><span><a href=\"#Relaciones-entre-las-funciones\" data-toc-modified-id=\"Relaciones-entre-las-funciones-1.4\"><span class=\"toc-item-num\">1.4&nbsp;&nbsp;</span>Relaciones entre las funciones</a></span></li></ul></li><li><span><a href=\"#Continuas\" data-toc-modified-id=\"Continuas-2\"><span class=\"toc-item-num\">2&nbsp;&nbsp;</span>Continuas</a></span><ul class=\"toc-item\"><li><span><a href=\"#Impulso-Unitario-(dirac)\" data-toc-modified-id=\"Impulso-Unitario-(dirac)-2.1\"><span class=\"toc-item-num\">2.1&nbsp;&nbsp;</span>Impulso Unitario (dirac)</a></span></li><li><span><a href=\"#Escalon-Unitario-(Heaviside)\" data-toc-modified-id=\"Escalon-Unitario-(Heaviside)-2.2\"><span class=\"toc-item-num\">2.2&nbsp;&nbsp;</span>Escalon Unitario (Heaviside)</a></span></li><li><span><a href=\"#Rampa\" data-toc-modified-id=\"Rampa-2.3\"><span class=\"toc-item-num\">2.3&nbsp;&nbsp;</span>Rampa</a></span></li><li><span><a href=\"#Relaciones-entre-las-funciones\" data-toc-modified-id=\"Relaciones-entre-las-funciones-2.4\"><span class=\"toc-item-num\">2.4&nbsp;&nbsp;</span>Relaciones entre las funciones</a></span></li></ul></li><li><span><a href=\"#REFERENCIAS\" data-toc-modified-id=\"REFERENCIAS-3\"><span class=\"toc-item-num\">3&nbsp;&nbsp;</span>REFERENCIAS</a></span></li></ul></div>"
   ]
  },
  {
   "cell_type": "markdown",
   "metadata": {},
   "source": [
    "# Discretas\n",
    "\n",
    "## Impulso Unitario (dirac)\n",
    "\n",
    "\\begin{equation}\n",
    "\\large \\delta[n] = \\begin{cases}\n",
    "    1, & n = 0 \\\\\n",
    "    0, & n \\neq 0\n",
    "\\end{cases}\n",
    "\\end{equation}"
   ]
  },
  {
   "cell_type": "code",
   "execution_count": 2,
   "metadata": {},
   "outputs": [],
   "source": [
    "import numpy as np\n",
    "import matplotlib.pyplot as plt\n",
    "import sympy as sym\n",
    "\n",
    "%matplotlib inline\n",
    "plt.style.use('bmh') # estilo de las graficas\n",
    "from IPython.display import Latex # para visualizar ecuaciones en jupyter"
   ]
  },
  {
   "cell_type": "code",
   "execution_count": 3,
   "metadata": {},
   "outputs": [
    {
     "data": {
      "image/png": "[encoded data removed]",
      "text/plain": [
       "<Figure size 432x288 with 1 Axes>"
      ]
     },
     "metadata": {
      "needs_background": "light"
     },
     "output_type": "display_data"
    }
   ],
   "source": [
    "def dirac(n):\n",
    "    return np.where(n == 0, 1.0, 0.0)\n",
    "\n",
    "n = np.arange(-10, 11)\n",
    "x = dirac(n)\n",
    "plt.stem(n, x, use_line_collection=True)\n",
    "plt.xlabel('$n$')\n",
    "plt.title('Impulso Unitario')\n",
    "plt.ylabel('$\\delta[n]$')\n",
    "plt.ylim([-0.1, 1.1]);"
   ]
  },
  {
   "cell_type": "markdown",
   "metadata": {},
   "source": [
    "## Escalon Unitario (Heaviside)\n",
    "\n",
    "\\begin{equation}\n",
    "\\large  \\mu[n] = \\begin{cases} \n",
    "    1, & n \\geq 0 \\\\  \n",
    "    0, & n < 0 \\end{cases}\n",
    "\\end{equation}"
   ]
  },
  {
   "cell_type": "code",
   "execution_count": 4,
   "metadata": {},
   "outputs": [
    {
     "data": {
      "image/png": "[encoded data removed]",
      "text/plain": [
       "<Figure size 432x288 with 1 Axes>"
      ]
     },
     "metadata": {
      "needs_background": "light"
     },
     "output_type": "display_data"
    }
   ],
   "source": [
    "# definiendo la funcion heaviside en dominio discreto\n",
    "def heaviside(n):\n",
    "    return np.where(n >= 0, 1.0, 0.0)\n",
    "\n",
    "n = np.arange(-5, 20)\n",
    "x = heaviside(n)\n",
    "\n",
    "plt.stem(n, x, use_line_collection=True)\n",
    "plt.xlabel('$n$')\n",
    "plt.title('Escalon Unitario')\n",
    "plt.ylabel('$\\mu [n]$')\n",
    "plt.ylim([-0.1, 1.1]);"
   ]
  },
  {
   "cell_type": "markdown",
   "metadata": {},
   "source": [
    "## Rampa\n",
    "\\begin{equation}\n",
    "\\large  r[n] = \\begin{cases} \n",
    "    n , & n \\geq 0 \\\\  \n",
    "    0 , & n < 0 \\end{cases}\n",
    "\\end{equation}\n",
    "El valor que multuplique la funcion rampa modificara la pendiente de la señal."
   ]
  },
  {
   "cell_type": "code",
   "execution_count": 5,
   "metadata": {},
   "outputs": [
    {
     "data": {
      "image/png": "[encoded data removed]",
      "text/plain": [
       "<Figure size 432x288 with 1 Axes>"
      ]
     },
     "metadata": {
      "needs_background": "light"
     },
     "output_type": "display_data"
    }
   ],
   "source": [
    "# definiendo la funcion rampa en dominio discreto\n",
    "def rampa(n):\n",
    "    return n*(np.where(n >= 0, 1.0, 0.0))\n",
    "\n",
    "n = np.arange(-5, 20)\n",
    "x = rampa(n)\n",
    "\n",
    "plt.stem(n, x, use_line_collection=True)\n",
    "plt.xlabel('$n$')\n",
    "plt.title('Rampa Discreta')\n",
    "plt.ylabel('$r[n]$')\n",
    "plt.ylim([-0.1, 20]);"
   ]
  },
  {
   "cell_type": "markdown",
   "metadata": {},
   "source": [
    "## Relaciones entre las funciones\n",
    "\\begin{equation}\n",
    "  \\large \\delta[n] = \\mu[n]-\\mu[n-1]\n",
    "\\end{equation}\n",
    "\\begin{equation}\n",
    "  \\large \\mu[n] = \\sum_{m=0}^{\\infty} \\delta[m] = \\sum_{k=0}^{\\infty} \\delta[n-k]\n",
    "\\end{equation}\n",
    "\n",
    "\\begin{equation}\n",
    "  \\large r[n] = n \\mu[n]\n",
    "\\end{equation}\n",
    "\n",
    "Apartir de las ecuaciones anteriores se puede deducir que la funcion impulso es la primera derivada del escalon y el escalon es la primera derivada de la funcion rampa.\n",
    "\n",
    "La secuencia impulso unitario (Ecuacion 5) se puede utilizar para obtener muestras del valor de una señal en $n=0 \\rightarrow x[n]\\delta[n] = x[0]\\delta[n]$\n",
    "\n",
    "De forma general, EL muestreo del impulso unitario esta definido como : $x[n]\\delta[n-n_{0}] = x[n_{0}]\\delta[n-n_{0}]$"
   ]
  },
  {
   "cell_type": "markdown",
   "metadata": {},
   "source": [
    "# Continuas\n",
    "## Impulso Unitario (dirac)\n",
    "\n",
    "El impulso unitario $\\delta (t)$ es una función definida primero por Paul Dirac de la forma:\n",
    "\\begin{equation}\n",
    "\\large \\delta(t)= \\begin{cases} 1, & t = 0 \\\\ 0, & t \\neq 0\\end{cases}\n",
    "\\end{equation}\n",
    "Se puede ver al impulso como un pulso rectangular con ancho infinitesimal y de área unitaria.\n",
    "\\begin{equation}\n",
    "\\large \\int_{-\\infty}^{\\infty} \\delta(t) dt = 1 \n",
    "\\end{equation}\n",
    "\n",
    "Matematica y teoricamente se representa como una flecha con altura de 1 de la siguiente manera\n",
    "![dirac](https://upload.wikimedia.org/wikipedia/commons/thumb/4/48/Dirac_distribution_PDF.svg/320px-Dirac_distribution_PDF.svg.png)\n",
    "\n",
    "\n",
    "El impulso de Dirac es una de las señales más importantes en la teoría de sistemas y señales. Se utiliza para la caracterización de sistemas Lineales e invariantes en el tiempo (LTI) y el modelado de señales por medio de impulsos."
   ]
  },
  {
   "cell_type": "code",
   "execution_count": 6,
   "metadata": {
    "scrolled": true
   },
   "outputs": [
    {
     "name": "stdout",
     "output_type": "stream",
     "text": [
      "\u001b[91mNota importante: \n",
      "Solo por ilustracion en Python se realiza la siguiente grafica,\n",
      "ya que es un infinitesimal, entonces no se podria ver\u001b[0m\n"
     ]
    },
    {
     "data": {
      "image/png": "[encoded data removed]",
      "text/plain": [
       "<Figure size 432x288 with 1 Axes>"
      ]
     },
     "metadata": {
      "needs_background": "light"
     },
     "output_type": "display_data"
    }
   ],
   "source": [
    "import numpy as np\n",
    "rojo = '\\033[91m'  # para imprimir con color rojo\n",
    "finrojo = '\\033[0m'\n",
    "msg = ('Nota importante: \\n'\n",
    "       'Solo por ilustracion en Python se realiza la siguiente grafica,\\n'\n",
    "       'ya que es un infinitesimal, entonces no se podria ver')\n",
    "print(rojo+msg+finrojo)\n",
    "\n",
    "# el codigo siguiente solo es para hacer una ilustracion\n",
    "# de la señal impulso, sin ser de esta forma verdaderamente\n",
    "\n",
    "\n",
    "# INGRESO\n",
    "def u(t): return np.piecewise(t, t >= 0, [1, 0])\n",
    "\n",
    "\n",
    "a = -10\n",
    "b = 10\n",
    "dt = 0.1\n",
    "\n",
    "t = np.arange(a, b, dt)\n",
    "\n",
    "u0 = u(t)\n",
    "udt = u(t-dt)\n",
    "impulso = u0 - udt\n",
    "\n",
    "# SALIDA - GRAFICA\n",
    "plt.figure(4)\n",
    "plt.plot(t, impulso)\n",
    "\n",
    "plt.margins(dt)\n",
    "plt.xlabel('t')\n",
    "plt.ylabel('$\\delta (t)$')\n",
    "plt.title('impulso()');"
   ]
  },
  {
   "cell_type": "code",
   "execution_count": 7,
   "metadata": {},
   "outputs": [
    {
     "name": "stdout",
     "output_type": "stream",
     "text": [
      "definicion de la funcion impulso\n"
     ]
    },
    {
     "data": {
      "text/latex": [
       "$\\displaystyle \\delta\\left(t\\right)$"
      ],
      "text/plain": [
       "DiracDelta(t)"
      ]
     },
     "execution_count": 7,
     "metadata": {},
     "output_type": "execute_result"
    }
   ],
   "source": [
    "# importar librerias\n",
    "import sympy as sym\n",
    "t = sym.symbols('t', real=True)\n",
    "\n",
    "print('definicion de la funcion impulso')\n",
    "delta = sym.DiracDelta(t)\n",
    "delta"
   ]
  },
  {
   "cell_type": "code",
   "execution_count": 8,
   "metadata": {
    "scrolled": true
   },
   "outputs": [
    {
     "data": {
      "text/latex": [
       "$\\int_{-\\infty}^{\\infty} \\delta(t) dt =$"
      ],
      "text/plain": [
       "<IPython.core.display.Latex object>"
      ]
     },
     "metadata": {},
     "output_type": "display_data"
    },
    {
     "data": {
      "text/latex": [
       "$\\displaystyle 1$"
      ],
      "text/plain": [
       "1"
      ]
     },
     "execution_count": 8,
     "metadata": {},
     "output_type": "execute_result"
    }
   ],
   "source": [
    "display(Latex('$\\int_{-\\infty}^{\\infty} \\delta(t) dt =$'))\n",
    "\n",
    "sym.integrate(delta, (t, -sym.oo, sym.oo))"
   ]
  },
  {
   "cell_type": "markdown",
   "metadata": {},
   "source": [
    "El impulso es el pulso mas corto que se puede aplicar a un sistema, la respuesta no sera influenciado por la duracion del pulso o por la forma del pulso; sino por el efecto neto integrado del pulso, es decir su area.\n",
    "\n",
    "Al igual que con las señales discretas:\n",
    "$t=0 \\rightarrow x(t)\\delta(t) = x(0)\\delta(t)$\n",
    "\n",
    "De forma general, El muestreo del impulso unitario esta definido como : $x(n)\\delta(t-t_{0}) = x(t_{0})\\delta(t-t_{0})$"
   ]
  },
  {
   "cell_type": "markdown",
   "metadata": {},
   "source": [
    "## Escalon Unitario (Heaviside)\n",
    "El escalon unitario continuo esta definido como:\n",
    "\\begin{equation}\n",
    "   \\large \\mu(t)= \\begin{cases} 1, & t\\geq 0 \\\\ 0, & t<0\\end{cases}\n",
    "\\end{equation}\n",
    "Tiene una discontinuidad en $t=0$\n",
    "\n",
    "En Python se define asi $\\theta (t)$"
   ]
  },
  {
   "cell_type": "code",
   "execution_count": 9,
   "metadata": {},
   "outputs": [
    {
     "name": "stdout",
     "output_type": "stream",
     "text": [
      "definicion de la funcion Escalon Unitario\n"
     ]
    },
    {
     "data": {
      "text/latex": [
       "$\\displaystyle \\theta\\left(t\\right)$"
      ],
      "text/plain": [
       "Heaviside(t)"
      ]
     },
     "execution_count": 9,
     "metadata": {},
     "output_type": "execute_result"
    }
   ],
   "source": [
    "print('definicion de la funcion Escalon Unitario')\n",
    "paso = sym.Heaviside(t)\n",
    "paso"
   ]
  },
  {
   "cell_type": "code",
   "execution_count": 10,
   "metadata": {},
   "outputs": [
    {
     "data": {
      "image/png": "[encoded data removed]",
      "text/plain": [
       "<Figure size 432x288 with 1 Axes>"
      ]
     },
     "metadata": {
      "needs_background": "light"
     },
     "output_type": "display_data"
    }
   ],
   "source": [
    "sym.plot(paso, (t, -2, 2), ylim=[-0.2, 1.2],\n",
    "         ylabel='$\\mu(t)$', title='Escalon Unitario');"
   ]
  },
  {
   "cell_type": "markdown",
   "metadata": {},
   "source": [
    "## Rampa\n",
    "\\begin{equation}\n",
    "\\large  r(t) = \\begin{cases} \n",
    "    t , & t \\geq 0 \\\\  \n",
    "    0 , & t < 0 \\end{cases}\n",
    "\\end{equation}\n",
    "El valor que multuplique la funcion rampa modificara la pendiente de la señal."
   ]
  },
  {
   "cell_type": "code",
   "execution_count": 11,
   "metadata": {},
   "outputs": [
    {
     "name": "stdout",
     "output_type": "stream",
     "text": [
      "definicion de la funcion Rampa\n"
     ]
    },
    {
     "data": {
      "text/latex": [
       "$\\displaystyle t \\theta\\left(t\\right)$"
      ],
      "text/plain": [
       "t*Heaviside(t)"
      ]
     },
     "execution_count": 11,
     "metadata": {},
     "output_type": "execute_result"
    }
   ],
   "source": [
    "print('definicion de la funcion Rampa')\n",
    "rampa = t*sym.Heaviside(t)\n",
    "rampa"
   ]
  },
  {
   "cell_type": "code",
   "execution_count": 12,
   "metadata": {},
   "outputs": [
    {
     "data": {
      "image/png": "[encoded data removed]",
      "text/plain": [
       "<Figure size 432x288 with 1 Axes>"
      ]
     },
     "metadata": {
      "needs_background": "light"
     },
     "output_type": "display_data"
    }
   ],
   "source": [
    "sym.plot(rampa, (t, -2, 4), ylim=[-0.2, 4],\n",
    "         ylabel='$r(t)$', title='Rampa');"
   ]
  },
  {
   "cell_type": "markdown",
   "metadata": {},
   "source": [
    "## Relaciones entre las funciones\n",
    "El escalon unitario continuo es la integral del impulso unitario\n",
    "\\begin{equation}\n",
    "  \\large \\mu (t) = \\int_{-\\infty}^{t} \\delta(\\tau) d\\tau\n",
    "\\end{equation}\n",
    "\n",
    "\\begin{equation}\n",
    "  \\large \\delta (t) = \\frac{\\mathrm{d} \\mu (t) }{\\mathrm{d} t}\n",
    "\\end{equation}\n",
    "Lo anterior no es formalmente diferenciable\n",
    "\n",
    "\\begin{equation}\n",
    "  \\large r(t) = t \\mu (t)\n",
    "\\end{equation}"
   ]
  },
  {
   "cell_type": "markdown",
   "metadata": {},
   "source": [
    "# REFERENCIAS\n",
    "Oppenheim 1.4"
   ]
  },
  {
   "cell_type": "markdown",
   "metadata": {},
   "source": [
    "**Phd. Jose R. Zapata**\n",
    "- [https://joserzapata.github.io/](https://joserzapata.github.io/)\n",
    "- https://twitter.com/joserzapata\n",
    ""
   ]
  },
  {
   "cell_type": "code",
   "execution_count": 13,
   "metadata": {},
   "outputs": [],
   "source": [
    "import numpy as np\n",
    "\n",
    "# INGRESO\n",
    "u = lambda t: np.piecewise(t,t>=0,[1,0])"
   ]
  }
 ],
 "metadata": {
  "hide_input": false,
  "kernelspec": {
   "display_name": "Python 3",
   "language": "python",
   "name": "python3"
  },
  "language_info": {
   "codemirror_mode": {
    "name": "ipython",
    "version": 3
   },
   "file_extension": ".py",
   "mimetype": "text/x-python",
   "name": "python",
   "nbconvert_exporter": "python",
   "pygments_lexer": "ipython3",
   "version": "3.7.3"
  },
  "toc": {
   "base_numbering": 1,
   "nav_menu": {},
   "number_sections": true,
   "sideBar": true,
   "skip_h1_title": false,
   "title_cell": "Contenido",
   "title_sidebar": "Contenido",
   "toc_cell": true,
   "toc_position": {},
   "toc_section_display": true,
   "toc_window_display": true
  },
  "varInspector": {
   "cols": {
    "lenName": 16,
    "lenType": 16,
    "lenVar": 40
   },
   "kernels_config": {
    "python": {
     "delete_cmd_postfix": "",
     "delete_cmd_prefix": "del ",
     "library": "var_list.py",
     "varRefreshCmd": "print(var_dic_list())"
    },
    "r": {
     "delete_cmd_postfix": ") ",
     "delete_cmd_prefix": "rm(",
     "library": "var_list.r",
     "varRefreshCmd": "cat(var_dic_list()) "
    }
   },
   "types_to_exclude": [
    "module",
    "function",
    "builtin_function_or_method",
    "instance",
    "_Feature"
   ],
   "window_display": false
  }
 },
 "nbformat": 4,
 "nbformat_minor": 2
}
