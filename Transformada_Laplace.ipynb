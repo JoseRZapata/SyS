{
 "cells": [
  {
   "cell_type": "markdown",
   "metadata": {},
   "source": [
    "# TRANSFORMADA DE LAPLACE<a class=\"tocSkip\">\n",
    "## SISTEMAS Y SEÑALES <a class=\"tocSkip\">\n",
    "### Ingenieria de Telecomunicaciones <a class=\"tocSkip\">\n",
    "### Universidad Pontificia Bolivariana <a class=\"tocSkip\">   \n",
    "### Por: Jose R. Zapata - [https://joserzapata.github.io/](https://joserzapata.github.io/) <a class=\"tocSkip\">\n",
    "**joser.zapata@upb.edu.co**"
   ]
  },
  {
   "cell_type": "code",
   "execution_count": 1,
   "metadata": {},
   "outputs": [
    {
     "data": {
      "text/html": [
       "<script>\n",
       "  function code_toggle() {\n",
       "    if (code_shown){\n",
       "      $('div.input').hide('500');\n",
       "      $('#toggleButton').val('Ver el Codigo de Python')\n",
       "    } else {\n",
       "      $('div.input').show('500');\n",
       "      $('#toggleButton').val('Ocultar el Codigo')\n",
       "    }\n",
       "    code_shown = !code_shown\n",
       "  }\n",
       "\n",
       "  $( document ).ready(function(){\n",
       "    code_shown=false;\n",
       "    $('div.input').hide()\n",
       "  });\n",
       "</script>\n",
       "<form action=\"javascript:code_toggle()\">\n",
       "<input type=\"submit\" id=\"toggleButton\" value=\"Ver el Codigo de Python\"></form>"
      ],
      "text/plain": [
       "<IPython.core.display.HTML object>"
      ]
     },
     "execution_count": 1,
     "metadata": {},
     "output_type": "execute_result"
    }
   ],
   "source": [
    "# Script para ver y ocultar el codigo del jupyter\n",
    "from IPython.display import HTML\n",
    "\n",
    "HTML('''<script>\n",
    "  function code_toggle() {\n",
    "    if (code_shown){\n",
    "      $('div.input').hide('500');\n",
    "      $('#toggleButton').val('Ver el Codigo de Python')\n",
    "    } else {\n",
    "      $('div.input').show('500');\n",
    "      $('#toggleButton').val('Ocultar el Codigo')\n",
    "    }\n",
    "    code_shown = !code_shown\n",
    "  }\n",
    "\n",
    "  $( document ).ready(function(){\n",
    "    code_shown=false;\n",
    "    $('div.input').hide()\n",
    "  });\n",
    "</script>\n",
    "<form action=\"javascript:code_toggle()\">\n",
    "<input type=\"submit\" id=\"toggleButton\" value=\"Ver el Codigo de Python\"></form>''')"
   ]
  },
  {
   "cell_type": "markdown",
   "metadata": {
    "toc": true
   },
   "source": [
    "<h1>Contenido<span class=\"tocSkip\"></span></h1>\n",
    "<div class=\"toc\"><ul class=\"toc-item\"><li><span><a href=\"#Definición\" data-toc-modified-id=\"Definición-1\"><span class=\"toc-item-num\">1&nbsp;&nbsp;</span>Definición</a></span><ul class=\"toc-item\"><li><span><a href=\"#Transformada-Bilateral-de-Laplace\" data-toc-modified-id=\"Transformada-Bilateral-de-Laplace-1.1\"><span class=\"toc-item-num\">1.1&nbsp;&nbsp;</span>Transformada Bilateral de Laplace</a></span></li><li><span><a href=\"#Transformada-Unilateral-de-Laplace\" data-toc-modified-id=\"Transformada-Unilateral-de-Laplace-1.2\"><span class=\"toc-item-num\">1.2&nbsp;&nbsp;</span>Transformada Unilateral de Laplace</a></span></li><li><span><a href=\"#Transformada-inversa-de-Laplace\" data-toc-modified-id=\"Transformada-inversa-de-Laplace-1.3\"><span class=\"toc-item-num\">1.3&nbsp;&nbsp;</span>Transformada inversa de Laplace</a></span></li></ul></li><li><span><a href=\"#Región-de-Convergencia\" data-toc-modified-id=\"Región-de-Convergencia-2\"><span class=\"toc-item-num\">2&nbsp;&nbsp;</span>Región de Convergencia</a></span></li><li><span><a href=\"#Ejemplos-de-Transformadas-de-Laplace\" data-toc-modified-id=\"Ejemplos-de-Transformadas-de-Laplace-3\"><span class=\"toc-item-num\">3&nbsp;&nbsp;</span>Ejemplos de Transformadas de Laplace</a></span><ul class=\"toc-item\"><li><span><a href=\"#T.-Laplace-Impulso-de-Dirac\" data-toc-modified-id=\"T.-Laplace-Impulso-de-Dirac-3.1\"><span class=\"toc-item-num\">3.1&nbsp;&nbsp;</span>T. Laplace Impulso de Dirac</a></span></li><li><span><a href=\"#T.-Laplace-de-la-señal-exponencial-compleja-causal\" data-toc-modified-id=\"T.-Laplace-de-la-señal-exponencial-compleja-causal-3.2\"><span class=\"toc-item-num\">3.2&nbsp;&nbsp;</span>T. Laplace de la señal exponencial compleja causal</a></span></li><li><span><a href=\"#T.-de-Laplace-funcion-Paso\" data-toc-modified-id=\"T.-de-Laplace-funcion-Paso-3.3\"><span class=\"toc-item-num\">3.3&nbsp;&nbsp;</span>T. de Laplace funcion Paso</a></span></li><li><span><a href=\"#T.-de-Laplace-de-Seno-y-Coseno\" data-toc-modified-id=\"T.-de-Laplace-de-Seno-y-Coseno-3.4\"><span class=\"toc-item-num\">3.4&nbsp;&nbsp;</span>T. de Laplace de Seno y Coseno</a></span></li></ul></li><li><span><a href=\"#Propiedades\" data-toc-modified-id=\"Propiedades-4\"><span class=\"toc-item-num\">4&nbsp;&nbsp;</span>Propiedades</a></span><ul class=\"toc-item\"><li><span><a href=\"#Linealidad\" data-toc-modified-id=\"Linealidad-4.1\"><span class=\"toc-item-num\">4.1&nbsp;&nbsp;</span>Linealidad</a></span></li><li><span><a href=\"#Desplazamiento-en-el-Tiempo\" data-toc-modified-id=\"Desplazamiento-en-el-Tiempo-4.2\"><span class=\"toc-item-num\">4.2&nbsp;&nbsp;</span>Desplazamiento en el Tiempo</a></span></li><li><span><a href=\"#Desplazamiento-en-el-Dominio-de-s:\" data-toc-modified-id=\"Desplazamiento-en-el-Dominio-de-s:-4.3\"><span class=\"toc-item-num\">4.3&nbsp;&nbsp;</span>Desplazamiento en el Dominio de s:</a></span></li><li><span><a href=\"#Escalamiento-en-el-Tiempo:\" data-toc-modified-id=\"Escalamiento-en-el-Tiempo:-4.4\"><span class=\"toc-item-num\">4.4&nbsp;&nbsp;</span>Escalamiento en el Tiempo:</a></span></li><li><span><a href=\"#Conjugación:\" data-toc-modified-id=\"Conjugación:-4.5\"><span class=\"toc-item-num\">4.5&nbsp;&nbsp;</span>Conjugación:</a></span></li><li><span><a href=\"#Convolución:\" data-toc-modified-id=\"Convolución:-4.6\"><span class=\"toc-item-num\">4.6&nbsp;&nbsp;</span>Convolución:</a></span></li><li><span><a href=\"#Diferenciación-en-el-Tiempo\" data-toc-modified-id=\"Diferenciación-en-el-Tiempo-4.7\"><span class=\"toc-item-num\">4.7&nbsp;&nbsp;</span>Diferenciación en el Tiempo</a></span></li><li><span><a href=\"#Diferenciación-en-Dominio-de-s:\" data-toc-modified-id=\"Diferenciación-en-Dominio-de-s:-4.8\"><span class=\"toc-item-num\">4.8&nbsp;&nbsp;</span>Diferenciación en Dominio de s:</a></span></li></ul></li><li><span><a href=\"#Tabla-de-Transformadas-Básicas\" data-toc-modified-id=\"Tabla-de-Transformadas-Básicas-5\"><span class=\"toc-item-num\">5&nbsp;&nbsp;</span>Tabla de Transformadas Básicas</a></span></li><li><span><a href=\"#REFERENCIAS\" data-toc-modified-id=\"REFERENCIAS-6\"><span class=\"toc-item-num\">6&nbsp;&nbsp;</span>REFERENCIAS</a></span></li></ul></div>"
   ]
  },
  {
   "cell_type": "code",
   "execution_count": 2,
   "metadata": {},
   "outputs": [],
   "source": [
    "# Importar librerias basicas\n",
    "import numpy as np\n",
    "import matplotlib.pyplot as plt\n",
    "import sympy as sym\n",
    "\n",
    "%matplotlib inline\n",
    "plt.style.use('bmh') # estilo de las graficas\n",
    "from IPython.display import Latex # para visualizar ecuaciones en jupyter"
   ]
  },
  {
   "cell_type": "markdown",
   "metadata": {},
   "source": [
    "# Definición\n",
    "La transformada de Laplace lleva el nombre de su descubridor [Pierre-Simon Laplace](https://es.wikipedia.org/wiki/Pierre-Simon_Laplace).\n",
    "La [Transformada de Laplace](https://es.wikipedia.org/wiki/Transformada_de_Laplace) constituye una transformación integral con la función exponencial compleja $e ^ {s t}$ como función base donde  $s$ se denomida la frecuencia compleja y $s = \\sigma + j \\omega$ con $\\sigma, \\omega \\in \\mathbb{R}$.\n",
    "\n",
    "\n",
    "Las funciones exponenciales complejas constituyen funciones propias de sistemas lineales invariantes en el tiempo (LTI). \n",
    "La transformación de Laplace es, por lo tanto, de uso especial en el contexto de señales y sistemas LTI.\n",
    " \n",
    "\n",
    "\n",
    "## Transformada Bilateral de Laplace\n",
    "La Transformada de Laplace (TLP) de una señal $x(t)$ se define como:\n",
    "$$\n",
    "\\large X(s) =  \\int_{-\\infty}^{+\\infty} x(t)·e^{-st}dt, s\\in\\mathbb{C}\n",
    "$$\n",
    "\n",
    "La Transformada de Laplace se aplica a señales continuas (no a discretas) y se convierte en la Transformada de Fourier cuando hacemos $s=j\\omega$.\n",
    "\n",
    "En sistemas LTI, la TLP de h(t) es H(s) y se denomina **función de transferencia del sistema**.\n",
    "\n",
    "\n",
    "## Transformada Unilateral de Laplace\n",
    "\n",
    "Las señales causales son muy importantes en la teoría de sistemas y señales. Para una señal causal \n",
    "$x(t) = 0$ para $t <0$, se mantiene la relación $x(t) = x(t) \\cdot \\mu(t)$. Introduciendo esto en la definición de la transformada de Laplace bilateral, obtenemos:\n",
    "\n",
    "$$\n",
    "\\large \\boxed{X(s) = \\int_{0}^{\\infty} x(t) \\, e^{- s t} \\; dt}\n",
    "$$\n",
    "\n",
    "En la literatura, tanto la transformada de Laplace unilateral como la bilateral se denominan transformada de Laplace. Ambas dan el mismo resultado para las señales causales.\n",
    "\n",
    "## Transformada inversa de Laplace\n",
    "$$\n",
    "\\large \\boxed{x(t) = \\frac{1}{2\\pi j}\\int_{\\sigma - j\\infty}^{\\sigma + j\\infty} X(s)·e^{st}dt}\n",
    "$$\n",
    "\n",
    "# Región de Convergencia\n",
    "Todos los valores $ s $ para los que converge la transformación de Laplace forman una [Region de convergencia](https://es.wikipedia.org/wiki/Radio_de_convergencia) (ROC). Las transformadas de Laplace de dos señales diferentes pueden diferir solo con respecto a sus ROC. En consecuencia, la ROC necesita ser dada explícitamente para una inversión o transformada inversa única de la transformada de Laplace.\n",
    "\n",
    "Diferentes señales pueden tener la misma TLP (por ejemplo, $x_1(t) = e^{-\\alpha t}·u(t), x_2(t) = -e^{-\\alpha t}u(-t)$). Pero converge para distintas regiones del plano complejo s. A la región del plano s donde X(s) es convergente se le denomina Región de Convergencia (ROC).\n",
    "\n",
    "La ROC se calcula analizando los polos (infinitos) de X(s) y tiene las siguientes características:\n",
    "* Es un conjunto de bandas paralelas al eje $j\\omega$.\n",
    "* Si la TLP es racional, la ROC no contiene ningún polo.\n",
    "* Si $x(t)$ es de duración finita y absolutamente integrable, la ROC de X(s) es todo el plano s.\n",
    "* Si $x(t)$ es derecha, la ROC es un semiplano derecho.\n",
    "* Si $x(t)$ es izquierda, la ROC es un semiplano izquierdo."
   ]
  },
  {
   "cell_type": "markdown",
   "metadata": {},
   "source": [
    "# Ejemplos de Transformadas de Laplace"
   ]
  },
  {
   "cell_type": "markdown",
   "metadata": {},
   "source": [
    "## T. Laplace Impulso de Dirac\n",
    "$$\n",
    " \\mathcal{L} \\{ \\delta(t) \\} = \\int_{-\\infty}^{\\infty} \\delta(t) \\, e^{- s t} dt = e^{- s t} \\Big\\vert_{t=0}  =  1\n",
    "$$\n",
    "para $s \\in \\mathbb{C}$. la ROC esta en todo el plano complejo."
   ]
  },
  {
   "cell_type": "code",
   "execution_count": 3,
   "metadata": {},
   "outputs": [
    {
     "name": "stdout",
     "output_type": "stream",
     "text": [
      "Transformada de Laplace con python del impulso de dirac = 1\n"
     ]
    }
   ],
   "source": [
    "t = sym.symbols('t', real=True)\n",
    "s = sym.symbols('s', complex=True)\n",
    "\n",
    "X = sym.integrate(sym.DiracDelta(t)*sym.exp(-s*t), (t, -sym.oo, sym.oo))\n",
    "print(f'Transformada de Laplace con python del impulso de dirac = {X}')"
   ]
  },
  {
   "cell_type": "markdown",
   "metadata": {},
   "source": [
    "## T. Laplace de la señal exponencial compleja causal\n",
    "\n",
    "$$\n",
    "x(t) = \\mu(t) \\cdot e^{-s_0 t}\n",
    "$$\n",
    "\n",
    "\n",
    "con frecuencia compleja $s_0 \\in \\mathbb{C}$ se deriva de la evaluación de la definición de la transformada de Laplace unilateral\n",
    "\n",
    "\n",
    "$$\n",
    "\\begin{split}\n",
    "X(s) &= \\int_{0}^{\\infty} e^{-s_0 t} \\cdot e^{-s t} \\; dt = \\frac{-e^{-(s+s_0)t}}{s+s_0} \\, \\bigg\\vert_{0}^{\\infty} = \\frac{-1}{s+s_0} \\left[ \\lim_{t \\to \\infty} \\left( e^{- (s+s_0) t} \\right) -1 \\right] \\\\\n",
    "&= \\frac{1}{s + s_0}\n",
    "\\end{split}\n",
    "$$\n",
    "\n",
    "Como se puede concluir del caso límite anterior, la transformación de Laplace converge solo para $\\Re \\{ s + s_0 \\} > 0$. Por lo tanto, el ROC se da como\n",
    " \n",
    "$$\n",
    " \\Re \\{ s \\} > \\Re \\{ - s_0 \\} \n",
    "$$\n",
    "\n",
    "Combinando los hallazgos anteriores, la transformación de la señal exponencial compleja causal es\n",
    " \n",
    "$$\n",
    "\\mathcal{L} \\{ \\epsilon(t) \\cdot e^{-s_0 t} \\} = \\frac{1}{s + s_0} \\qquad \\text{for } \\Re \\{ s \\} > \\Re \\{ - s_0 \\}\n",
    "$$\n"
   ]
  },
  {
   "cell_type": "code",
   "execution_count": 4,
   "metadata": {},
   "outputs": [
    {
     "name": "stdout",
     "output_type": "stream",
     "text": [
      "Transformada de Laplace con python de una exponencial\n"
     ]
    },
    {
     "data": {
      "text/latex": [
       "$\\displaystyle \\frac{1}{s + s_{0}}$"
      ],
      "text/plain": [
       "1/(s + s0)"
      ]
     },
     "execution_count": 4,
     "metadata": {},
     "output_type": "execute_result"
    }
   ],
   "source": [
    "s0 = sym.symbols('s0', complex=True)\n",
    "\n",
    "X, a, cond = sym.laplace_transform(sym.exp(-s0*t), t, s)\n",
    "X, a, cond\n",
    "print('Transformada de Laplace con python de una exponencial')\n",
    "X"
   ]
  },
  {
   "cell_type": "markdown",
   "metadata": {},
   "source": [
    "## T. de Laplace funcion Paso\n",
    "\n",
    "$$\n",
    "\\mathcal{L} \\{ \\mu(t) \\} = \\frac{1}{s} \\qquad \\text{for } \\Re \\{ s \\} > 0\n",
    "$$"
   ]
  },
  {
   "cell_type": "markdown",
   "metadata": {},
   "source": [
    "##  T. de Laplace de Seno y Coseno\n",
    "\n",
    "$$\n",
    "\\cos(\\omega_0 t) = \\frac{1}{2} \\left( e^{j \\omega_0 t} + e^{-j \\omega_0 t} \\right) \\\\\n",
    "\\sin(\\omega_0 t) = \\frac{1}{2j} \\left( e^{j \\omega_0 t} - e^{-j \\omega_0 t} \\right)\n",
    "$$\n",
    "\n",
    "\n",
    "$$\n",
    "\\mathcal{L} \\{ \\mu(t) \\cdot e^{-s_0 t} \\} = \\frac{1}{s + s_0} \\qquad \\text{for } \\Re \\{ s \\} > \\Re \\{ - s_0 \\}\n",
    "$$\n",
    "\n",
    "Utilizando la propiedad de linealidad\n",
    "$$\n",
    "\\mathcal{L} \\{ \\mu(t) \\cdot \\cos(\\omega_0 t) \\} = \n",
    " \\frac{1}{2} \\left( \\frac{1}{s - j \\omega_0} + \\frac{1}{s + j \\omega_0} \\right) = \\frac{s}{s^2 + \\omega_0^2}\n",
    " \\qquad \\text{for } \\Re \\{ s \\} > 0\n",
    "$$\n",
    "\n",
    "$$\n",
    "\\mathcal{L} \\{ \\mu(t) \\cdot \\sin(\\omega_0 t) \\} = \n",
    "\\frac{1}{2j} \\left( \\frac{1}{s - j \\omega_0} - \\frac{1}{s + j \\omega_0} \\right) = \\frac{\\omega_0}{s^2 + \\omega_0^2}\n",
    "\\qquad \\text{for } \\Re \\{ s \\} > 0\n",
    "$$"
   ]
  },
  {
   "cell_type": "code",
   "execution_count": 5,
   "metadata": {},
   "outputs": [
    {
     "name": "stdout",
     "output_type": "stream",
     "text": [
      "Transformada de Laplace de sin(t)u(t) =\n"
     ]
    },
    {
     "data": {
      "text/latex": [
       "$\\displaystyle \\frac{\\omega_{0}}{\\omega_{0}^{2} + s^{2}}$"
      ],
      "text/plain": [
       "omega0/(omega0**2 + s**2)"
      ]
     },
     "execution_count": 5,
     "metadata": {},
     "output_type": "execute_result"
    }
   ],
   "source": [
    "t, w0 = sym.symbols('t omega0', real=True)\n",
    "s = sym.symbols('s', complex=True)\n",
    "\n",
    "x = sym.sin(w0*t)\n",
    "X, a, cond = sym.laplace_transform(x, t, s)\n",
    "X, a, cond\n",
    "print('Transformada de Laplace de sin(t)u(t) =')\n",
    "X"
   ]
  },
  {
   "cell_type": "markdown",
   "metadata": {},
   "source": [
    "# Propiedades\n",
    "## Linealidad\n",
    "$$\n",
    "\\large \\mathbb{L}\\{A·x_1(t) + B·x_2(t)\\} = A·X_1(s) + B·X_2(s)\n",
    "$$\n",
    "y la ROC conteniendo R<sub>1</sub>∩R<sub>2</sub>\n",
    "\n",
    "## Desplazamiento en el Tiempo\n",
    "$$\n",
    "\\large \\mathbb{L}\\{x(t-t_0)\\} = e^{-st_0}·X(s)\n",
    "$$\n",
    "y ROC = R.\n",
    "\n",
    "## Desplazamiento en el Dominio de s:\n",
    "$$\n",
    "\\large \\mathbb{L}\\{e^{s_0·t}x(t)\\} = X(s-s_0)\n",
    "$$ \n",
    "y ROC = R + $\\mathbb{Re}\\{s_0\\}$.\n",
    "\n",
    "## Escalamiento en el Tiempo:\n",
    "$$\n",
    "\\large \\mathbb{L}\\{x(a·t)\\} = \\frac{1}{|a|}·X \\left(\\frac{s}{a}\\right)\n",
    "$$ \n",
    " y ROC = R/a.\n",
    "## Conjugación:\n",
    "$$\n",
    "\\large \\mathbb{L}\\{x^*(t)\\} = X^*(s^*)\n",
    "$$\n",
    " y ROC = R.\n",
    "## Convolución:\n",
    "$$\n",
    "\\large \\mathbb{L}\\{x(t)*h(t)\\} = X(s)·H(s)\n",
    "$$\n",
    "y la ROC conteniendo R<sub>x</sub>∩R<sub>h</sub>.\n",
    "## Diferenciación en el Tiempo\n",
    "$$\n",
    "\\large \\mathbb{L}\\{\\frac{dx(t)}{dt}\\} = s·X(s)\n",
    "$$\n",
    "y la ROC conteniendo a R.\n",
    "\n",
    "## Diferenciación en Dominio de s:\n",
    "$$\n",
    "\\large \\mathbb{L}\\{-t·x(t)\\} = \\frac{dX(s)}{ds}\n",
    "$$\n",
    "y la ROC = R."
   ]
  },
  {
   "cell_type": "markdown",
   "metadata": {},
   "source": [
    "# Tabla de Transformadas Básicas\n",
    "\n",
    "|Señal en el dominio del tiempo | Transformada de Laplace | Region de Convergencia (ROC)|\n",
    ":-------------:|:------------:|:--------------:|\n",
    "|$\\delta(t)$ | 1 | Todo s|\n",
    "|$u(t)$ | $\\frac{1}{s}$| $\\mathbb{Re}\\{s\\} \\gt 0$|\n",
    "|$-u(-t)$ | $\\frac{1}{s}$| $\\mathbb{Re}\\{s\\} \\lt 0$|\n",
    "|$e^{-at}·u(t)$ | $\\frac{1}{s+a}$| $\\mathbb{Re}\\{s\\} \\gt -a$|\n",
    "|$-e^{-at}·u(-t)$ | $\\frac{1}{s+a}$| $\\mathbb{Re}\\{s\\} \\lt -a$|\n",
    "|$sen(at)·u(t)$ | $\\frac{a}{s+a^2}$| Todo s|\n",
    "|$cos(at)·u(t)$ | $\\frac{s}{s+a^2}$| Todo s|\n",
    "|$e^{-at}·sen(wt)·u(t)$ | $\\frac{w}{(s+a)^2+w^2}$| Todo s|\n",
    "|$e^{-at}·cos(wt)·u(t)$ | $\\frac{s+a}{(s+a)^2+w^2}$| Todo s|\n",
    "|$t^n·e^{-at}, n \\in \\mathbb{N}$ | $\\frac{n!}{(s+a)^{n+1}}$| $\\mathbb{Re}\\{s\\} \\gt -a$|"
   ]
  },
  {
   "cell_type": "markdown",
   "metadata": {},
   "source": [
    "# REFERENCIAS\n",
    "- http://fourier.eng.hmc.edu/e102/lectures/Laplace_Transform/Laplace_Transform.html\n",
    "- https://nbviewer.jupyter.org/github/spatialaudio/signals-and-systems-lecture/blob/master/laplace_transform/definition.ipynb\n",
    "- https://nbviewer.jupyter.org/github/spatialaudio/signals-and-systems-lecture/blob/master/laplace_transform/properties.ipynb\n",
    "- https://nbviewer.jupyter.org/github/spatialaudio/signals-and-systems-lecture/blob/master/laplace_transform/theorems.ipynb\n",
    "- https://nbviewer.jupyter.org/github/spatialaudio/signals-and-systems-lecture/blob/master/laplace_transform/inverse.ipynb\n",
    "- http://19e37.com/wiki/index.php?title=Transformada_de_Laplace\n",
    "- Ejemplos: http://www.ehu.eus/juancarlos.gorostizaga/mateII15/extens1/T_LaplaceTR/LaplaceTR.htm"
   ]
  },
  {
   "cell_type": "markdown",
   "metadata": {},
   "source": [
    "**Phd. Jose R. Zapata**\n",
    "- [https://joserzapata.github.io/](https://joserzapata.github.io/)\n",
    "- https://twitter.com/joserzapata\n",
    ""
   ]
  }
 ],
 "metadata": {
  "hide_input": false,
  "kernelspec": {
   "display_name": "Python 3",
   "language": "python",
   "name": "python3"
  },
  "language_info": {
   "codemirror_mode": {
    "name": "ipython",
    "version": 3
   },
   "file_extension": ".py",
   "mimetype": "text/x-python",
   "name": "python",
   "nbconvert_exporter": "python",
   "pygments_lexer": "ipython3",
   "version": "3.7.4"
  },
  "toc": {
   "base_numbering": 1,
   "nav_menu": {},
   "number_sections": true,
   "sideBar": true,
   "skip_h1_title": false,
   "title_cell": "Contenido",
   "title_sidebar": "Contenido",
   "toc_cell": true,
   "toc_position": {},
   "toc_section_display": true,
   "toc_window_display": false
  },
  "varInspector": {
   "cols": {
    "lenName": 16,
    "lenType": 16,
    "lenVar": 40
   },
   "kernels_config": {
    "python": {
     "delete_cmd_postfix": "",
     "delete_cmd_prefix": "del ",
     "library": "var_list.py",
     "varRefreshCmd": "print(var_dic_list())"
    },
    "r": {
     "delete_cmd_postfix": ") ",
     "delete_cmd_prefix": "rm(",
     "library": "var_list.r",
     "varRefreshCmd": "cat(var_dic_list()) "
    }
   },
   "types_to_exclude": [
    "module",
    "function",
    "builtin_function_or_method",
    "instance",
    "_Feature"
   ],
   "window_display": false
  }
 },
 "nbformat": 4,
 "nbformat_minor": 2
}
