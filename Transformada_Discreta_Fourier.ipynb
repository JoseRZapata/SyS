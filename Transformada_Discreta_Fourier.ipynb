{
 "cells": [
  {
   "cell_type": "markdown",
   "metadata": {},
   "source": [
    "# TRANSFORMADA DE FOURIER EN TIEMPO DISCRETO (DTFT)<a class=\"tocSkip\">\n",
    "## SISTEMAS Y SEÑALES <a class=\"tocSkip\">\n",
    "### Ingenieria de Telecomunicaciones <a class=\"tocSkip\">\n",
    "### Universidad Pontificia Bolivariana <a class=\"tocSkip\">   \n",
    "### Por: Jose R. Zapata - [https://joserzapata.github.io/](https://joserzapata.github.io/) <a class=\"tocSkip\">\n",
    "**joser.zapata@upb.edu.co**"
   ]
  },
  {
   "cell_type": "code",
   "execution_count": 1,
   "metadata": {},
   "outputs": [
    {
     "data": {
      "text/html": [
       "<script>\n",
       "  function code_toggle() {\n",
       "    if (code_shown){\n",
       "      $('div.input').hide('500');\n",
       "      $('#toggleButton').val('Ver el Codigo de Python')\n",
       "    } else {\n",
       "      $('div.input').show('500');\n",
       "      $('#toggleButton').val('Ocultar el Codigo')\n",
       "    }\n",
       "    code_shown = !code_shown\n",
       "  }\n",
       "\n",
       "  $( document ).ready(function(){\n",
       "    code_shown=false;\n",
       "    $('div.input').hide()\n",
       "  });\n",
       "</script>\n",
       "<form action=\"javascript:code_toggle()\">\n",
       "<input type=\"submit\" id=\"toggleButton\" value=\"Ver el Codigo de Python\"></form>"
      ],
      "text/plain": [
       "<IPython.core.display.HTML object>"
      ]
     },
     "execution_count": 1,
     "metadata": {},
     "output_type": "execute_result"
    }
   ],
   "source": [
    "# Script para ver y ocultar el codigo del jupyter\n",
    "from IPython.display import HTML\n",
    "\n",
    "HTML('''<script>\n",
    "  function code_toggle() {\n",
    "    if (code_shown){\n",
    "      $('div.input').hide('500');\n",
    "      $('#toggleButton').val('Ver el Codigo de Python')\n",
    "    } else {\n",
    "      $('div.input').show('500');\n",
    "      $('#toggleButton').val('Ocultar el Codigo')\n",
    "    }\n",
    "    code_shown = !code_shown\n",
    "  }\n",
    "\n",
    "  $( document ).ready(function(){\n",
    "    code_shown=false;\n",
    "    $('div.input').hide()\n",
    "  });\n",
    "</script>\n",
    "<form action=\"javascript:code_toggle()\">\n",
    "<input type=\"submit\" id=\"toggleButton\" value=\"Ver el Codigo de Python\"></form>''')"
   ]
  },
  {
   "cell_type": "markdown",
   "metadata": {
    "toc": true
   },
   "source": [
    "<h1>Contenido<span class=\"tocSkip\"></span></h1>\n",
    "<div class=\"toc\"><ul class=\"toc-item\"><li><span><a href=\"#Transformada-de-Fourier-en-Tiempo-Discreto-(DTFT)\" data-toc-modified-id=\"Transformada-de-Fourier-en-Tiempo-Discreto-(DTFT)-1\"><span class=\"toc-item-num\">1&nbsp;&nbsp;</span>Transformada de Fourier en Tiempo Discreto (DTFT)</a></span></li><li><span><a href=\"#Convergencia\" data-toc-modified-id=\"Convergencia-2\"><span class=\"toc-item-num\">2&nbsp;&nbsp;</span>Convergencia</a></span></li><li><span><a href=\"#Ejercicio\" data-toc-modified-id=\"Ejercicio-3\"><span class=\"toc-item-num\">3&nbsp;&nbsp;</span>Ejercicio</a></span></li><li><span><a href=\"#Ejemplos-Tranformadas-Discretas-de-Fourier\" data-toc-modified-id=\"Ejemplos-Tranformadas-Discretas-de-Fourier-4\"><span class=\"toc-item-num\">4&nbsp;&nbsp;</span>Ejemplos Tranformadas Discretas de Fourier</a></span><ul class=\"toc-item\"><li><span><a href=\"#DTFT-Impulso-de-Dirac\" data-toc-modified-id=\"DTFT-Impulso-de-Dirac-4.1\"><span class=\"toc-item-num\">4.1&nbsp;&nbsp;</span>DTFT Impulso de Dirac</a></span></li><li><span><a href=\"#DTFT-de-un-Pulso-Rectangular\" data-toc-modified-id=\"DTFT-de-un-Pulso-Rectangular-4.2\"><span class=\"toc-item-num\">4.2&nbsp;&nbsp;</span>DTFT de un Pulso Rectangular</a></span><ul class=\"toc-item\"><li><span><a href=\"#Ejemplo\" data-toc-modified-id=\"Ejemplo-4.2.1\"><span class=\"toc-item-num\">4.2.1&nbsp;&nbsp;</span>Ejemplo</a></span></li></ul></li></ul></li><li><span><a href=\"#Transformada-de-Fourier-Discreta-para-Señales-Periodicas\" data-toc-modified-id=\"Transformada-de-Fourier-Discreta-para-Señales-Periodicas-5\"><span class=\"toc-item-num\">5&nbsp;&nbsp;</span>Transformada de Fourier Discreta para Señales Periodicas</a></span><ul class=\"toc-item\"><li><span><a href=\"#Ejercicios\" data-toc-modified-id=\"Ejercicios-5.1\"><span class=\"toc-item-num\">5.1&nbsp;&nbsp;</span>Ejercicios</a></span></li></ul></li><li><span><a href=\"#Propiedades-de-la-Tranformada-Discreta-de-Fourier\" data-toc-modified-id=\"Propiedades-de-la-Tranformada-Discreta-de-Fourier-6\"><span class=\"toc-item-num\">6&nbsp;&nbsp;</span>Propiedades de la Tranformada Discreta de Fourier</a></span><ul class=\"toc-item\"><li><span><a href=\"#Periodicidad\" data-toc-modified-id=\"Periodicidad-6.1\"><span class=\"toc-item-num\">6.1&nbsp;&nbsp;</span>Periodicidad</a></span></li><li><span><a href=\"#Linealidad\" data-toc-modified-id=\"Linealidad-6.2\"><span class=\"toc-item-num\">6.2&nbsp;&nbsp;</span>Linealidad</a></span></li><li><span><a href=\"#Desplazamiento-en-el-Tiempo-y-Frecuencia\" data-toc-modified-id=\"Desplazamiento-en-el-Tiempo-y-Frecuencia-6.3\"><span class=\"toc-item-num\">6.3&nbsp;&nbsp;</span>Desplazamiento en el Tiempo y Frecuencia</a></span></li><li><span><a href=\"#Conjugacion-y-Simetria-Conjugada\" data-toc-modified-id=\"Conjugacion-y-Simetria-Conjugada-6.4\"><span class=\"toc-item-num\">6.4&nbsp;&nbsp;</span>Conjugacion y Simetria Conjugada</a></span></li><li><span><a href=\"#Diferenciacion-y-Acumulacion\" data-toc-modified-id=\"Diferenciacion-y-Acumulacion-6.5\"><span class=\"toc-item-num\">6.5&nbsp;&nbsp;</span>Diferenciacion y Acumulacion</a></span></li><li><span><a href=\"#Inversion-en-el-Tiempo\" data-toc-modified-id=\"Inversion-en-el-Tiempo-6.6\"><span class=\"toc-item-num\">6.6&nbsp;&nbsp;</span>Inversion en el Tiempo</a></span></li><li><span><a href=\"#Escalamiento-de-Tiempo\" data-toc-modified-id=\"Escalamiento-de-Tiempo-6.7\"><span class=\"toc-item-num\">6.7&nbsp;&nbsp;</span>Escalamiento de Tiempo</a></span></li><li><span><a href=\"#Diferenciacion-en-Frecuencia\" data-toc-modified-id=\"Diferenciacion-en-Frecuencia-6.8\"><span class=\"toc-item-num\">6.8&nbsp;&nbsp;</span>Diferenciacion en Frecuencia</a></span></li><li><span><a href=\"#Relacion-de-Parseval\" data-toc-modified-id=\"Relacion-de-Parseval-6.9\"><span class=\"toc-item-num\">6.9&nbsp;&nbsp;</span>Relacion de Parseval</a></span></li><li><span><a href=\"#Convolucion\" data-toc-modified-id=\"Convolucion-6.10\"><span class=\"toc-item-num\">6.10&nbsp;&nbsp;</span>Convolucion</a></span></li><li><span><a href=\"#Multiplicacion-o-Modulacion\" data-toc-modified-id=\"Multiplicacion-o-Modulacion-6.11\"><span class=\"toc-item-num\">6.11&nbsp;&nbsp;</span>Multiplicacion o Modulacion</a></span></li></ul></li><li><span><a href=\"#Sistemas-Caracterizados-por-Ecuaciones-en-Diferencias-con-Coeficientes-Constantes\" data-toc-modified-id=\"Sistemas-Caracterizados-por-Ecuaciones-en-Diferencias-con-Coeficientes-Constantes-7\"><span class=\"toc-item-num\">7&nbsp;&nbsp;</span>Sistemas Caracterizados por Ecuaciones en Diferencias con Coeficientes Constantes</a></span><ul class=\"toc-item\"><li><span><a href=\"#Ejemplo\" data-toc-modified-id=\"Ejemplo-7.1\"><span class=\"toc-item-num\">7.1&nbsp;&nbsp;</span>Ejemplo</a></span></li><li><span><a href=\"#Ejercicio\" data-toc-modified-id=\"Ejercicio-7.2\"><span class=\"toc-item-num\">7.2&nbsp;&nbsp;</span>Ejercicio</a></span></li></ul></li><li><span><a href=\"#Referencia\" data-toc-modified-id=\"Referencia-8\"><span class=\"toc-item-num\">8&nbsp;&nbsp;</span>Referencia</a></span></li></ul></div>"
   ]
  },
  {
   "cell_type": "markdown",
   "metadata": {},
   "source": [
    "# Transformada de Fourier en Tiempo Discreto (DTFT)\n",
    "\n",
    "De forma análoga a la realizada para señales continuas, podemos deducir la expresión de la transformada de Fourier para señales discretas, obteniendo:\n",
    "\n",
    "$$\n",
    "\\large \\boxed{X(e^{j\\Omega}) = \\displaystyle \\sum_{n=-\\infty}^{+\\infty} x[n]\\cdot e^{-j\\Omega n}}\n",
    "$$\n",
    "\n",
    "Para calcular la anti-transformada, podemos aprovecharnos del hecho que $\\large X(j \\Omega) \\cdot e^{j \\Omega n}$ es periódica de periodo $2 \\pi$ y reducir la integral infinita a cualquier periodo de esa extensión. Nos queda que:\n",
    "\n",
    "$$\n",
    "\\large \\boxed{x[n] = \\frac{1}{2\\pi} \\displaystyle \\int_{2\\pi} X(e^{j\\Omega})\\cdot e^{j\\Omega n} d\\Omega}\n",
    "$$ \n",
    "\n",
    "La principal diferencia con la transformada de tiempo continuo es qeu el especro es periodica y el intervalo de integracion es continuo\n",
    "\n",
    "- Baja frecuencia alrededor de $\\Omega = 0 , \\Omega = 2 \\pi$ \n",
    "- Alta frecuencia alrededor de $\\Omega = - \\pi , \\Omega = \\pi$\n",
    "  \n",
    "# Convergencia\n",
    "Para que sea convergente solo basta que sea absolutamente sumable o energia finita.\n",
    "$$\n",
    "\\large \\sum_{n=- \\infty}^{\\infty} \\left|x[n] \\right| < \\infty\n",
    "$$\n",
    "\n",
    "En las señales discretas no se presenta el fenomeno de Gibbs.\n",
    "\n",
    "# Ejercicio\n",
    "$x[n] = a^n \\mu[n]$ para $|a|<1$"
   ]
  },
  {
   "cell_type": "markdown",
   "metadata": {},
   "source": [
    "#  Ejemplos Tranformadas Discretas de Fourier\n",
    "\n",
    "## DTFT Impulso de Dirac\n",
    "La transformada $\\mathcal{F} \\{ \\delta[k] \\}$ de un impulso de diracces igual a\n",
    "\n",
    "$$\n",
    " \\mathcal{F}\\{ \\delta[k] \\} = \\sum_{k = -\\infty}^{\\infty} \\delta[k] \\, e^{-j \\Omega k} = 1\n",
    "$$\n",
    "\n",
    "La transformación del impulso de Dirac es igual a uno. Por lo tanto, todas las frecuencias normalizadas $\\Omega$ están presentes con el mismo peso. Esta es una propiedad importante en la teoría de señales y sistemas discretos, ya que el impulso de Dirac se utiliza para caracterizar los sistemas lineales invariantes en el tiempo (LTI) por su respuesta de impulso $h[k] = \\mathcal{H} \\{ \\delta[k] \\}$."
   ]
  },
  {
   "cell_type": "markdown",
   "metadata": {},
   "source": [
    "## DTFT de un Pulso Rectangular\n",
    " El DTFT $X(e^{j \\Omega}) = \\mathcal{F}\\{\\text{rect}_N[k] \\}$ de la señal rectangular se deriva al introducir su definición en la definición de DTFT. Esto resulta en\n",
    "\n",
    "$$\n",
    " \\mathcal {F} \\{\\text{rect}[k] \\} = \\sum_{k = - \\infty} ^ {\\infty} \\text{rect}[k] \\, e^ {-j \\Omega k} =\n",
    " \\sum_{k = 0}^{N-1} e^{-j\\Omega k} = e^{-j \\Omega \\frac {N-1} {2}} \\cdot \\frac {\\sin \\left (\\frac {N \\Omega} {2} \\right)} {\\sin \\left (\\frac {\\Omega} {2} \\right)}\n",
    "$$\n",
    "\n",
    " La última igualdad se ha derivado al señalar que la suma constituye una [serie geométrica finita](https://es.wikipedia.org/wiki/Serie_geom%C3%A9trica) con la proporción común $e^{-j \\Omega}$. Tenga en cuenta que\n",
    "\n",
    "$$\n",
    "\\frac {\\sin \\left (\\frac {N \\Omega} {2} \\right)} {\\sin \\left (\\frac {\\Omega} {2} \\right)} \\bigg \\rvert _ {\\Omega = n \\cdot 2 \\pi} = N\n",
    "$$\n",
    "Para $n \\in \\mathbb{Z}$ debido a la regla de L'Hôpital."
   ]
  },
  {
   "cell_type": "markdown",
   "metadata": {},
   "source": [
    "### Ejemplo\n",
    "\n",
    "La DTFT $X(e^{j \\Omega}) = \\mathcal{F} \\{ \\text{rect}_N[k] \\}$ de una señal rectangular se calcula para una longitud especifica de $N$ y evaluando las series finitas de la serie que se encuentra arriba usando `SymPy`, obtenemos:"
   ]
  },
  {
   "cell_type": "code",
   "execution_count": 2,
   "metadata": {},
   "outputs": [
    {
     "name": "stdout",
     "output_type": "stream",
     "text": [
      "Para N = 5\n"
     ]
    },
    {
     "data": {
      "image/png": "[encoded data removed]",
      "text/latex": [
       "$\\displaystyle 1 + e^{- i \\Omega} + e^{- 2 i \\Omega} + e^{- 3 i \\Omega} + e^{- 4 i \\Omega}$"
      ],
      "text/plain": [
       "     -ⅈ⋅Ω    -2⋅ⅈ⋅Ω    -3⋅ⅈ⋅Ω    -4⋅ⅈ⋅Ω\n",
       "1 + ℯ     + ℯ       + ℯ       + ℯ      "
      ]
     },
     "execution_count": 2,
     "metadata": {},
     "output_type": "execute_result"
    }
   ],
   "source": [
    "%matplotlib inline\n",
    "import sympy as sym\n",
    "sym.init_printing()\n",
    "\n",
    "W = sym.symbols('Omega', real=True)\n",
    "k = sym.symbols('k', integer=True)\n",
    "\n",
    "N = 5\n",
    "print(f'Para N = {N}')\n",
    "X = sym.summation(sym.exp(-sym.I*W*k), (k, 0, N-1))\n",
    "X"
   ]
  },
  {
   "cell_type": "code",
   "execution_count": 3,
   "metadata": {},
   "outputs": [
    {
     "data": {
      "image/png": "[encoded data removed]",
      "text/plain": [
       "<Figure size 432x288 with 1 Axes>"
      ]
     },
     "metadata": {
      "needs_background": "light"
     },
     "output_type": "display_data"
    },
    {
     "data": {
      "image/png": "[encoded data removed]",
      "text/plain": [
       "<Figure size 432x288 with 1 Axes>"
      ]
     },
     "metadata": {
      "needs_background": "light"
     },
     "output_type": "display_data"
    }
   ],
   "source": [
    "sym.plot(sym.Abs(X), (W, -3*sym.pi, 3*sym.pi), xlabel=r'$\\Omega$', ylabel=r'$| X(e^{j \\Omega}) |$')\n",
    "sym.plot(sym.arg(X), (W, -3*sym.pi, 3*sym.pi), xlabel=r'$\\Omega$', ylabel=r'$\\varphi(e^{j \\Omega})$');"
   ]
  },
  {
   "cell_type": "markdown",
   "metadata": {},
   "source": [
    "**Ejercicio**\n",
    "\n",
    "¿Que ocurre con el diagrama de Magnitud y de Fase si aumenta o disminuye la longitud N de la señal rectangular?"
   ]
  },
  {
   "cell_type": "markdown",
   "metadata": {},
   "source": [
    "# Transformada de Fourier Discreta para Señales Periodicas\n",
    "El desarrollo es el mismo realizado para la transformada de tiempo continuo, que es considerando $x[n] = e^{j \\Omega_0 n}$ su transformada de Fourier es un impulso en  $\\Omega = \\Omega_0 , \\; \\Omega_0 \\pm 2\\pi, \\;\\Omega_0 \\pm 4\\pi, ...$ y la transformada de Fourier de $x[n]$ es:\n",
    "$$\n",
    "\\large X(e^{j\\Omega}) = \\sum_{l=-\\infty}^{+\\infty} 2\\pi \\; \\delta(\\Omega - \\Omega_0 - 2\\pi l) \\rightarrow \\\\\n",
    "\\large X(e^{j\\Omega}) = 2\\pi \\sum_{k=-\\infty}^{+\\infty} a_k \\; \\delta \\left( \\Omega - \\frac{2\\pi k}{N} \\right)\n",
    "$$\n",
    "\n",
    "## Ejercicios\n",
    "- Calcular la DTFT de $x[n] = \\cos(\\omega_0 n )$ si $\\omega_0 = \\frac{2 \\pi}{5}$"
   ]
  },
  {
   "cell_type": "markdown",
   "metadata": {},
   "source": [
    "# Propiedades de la Tranformada Discreta de Fourier\n",
    "Para todas estas propiedades, supondremos que $\\mathcal{F}[x[n]] = X(j\\Omega)$ y por lo tanto $x[n] = \\mathcal{F}^{-1}[X(j\\Omega)]$ \n",
    "## Periodicidad\n",
    "La transformada de Fourier en tiempo discreto es SIEMPRE periódica en $\\Omega$ con periodo $2 \\pi$:\n",
    "$$\n",
    "\\large X(e^{j(\\Omega + 2\\pi)}) = X(e^{j\\Omega})\n",
    "$$\n",
    "## Linealidad\n",
    "$$\n",
    "\\large \\mathcal{F}[A\\cdot x[n]+B\\cdot y[n]] = A\\cdot X(e^{j\\Omega})+B\\cdot Y(e^{j\\Omega}) \n",
    "$$\n",
    "## Desplazamiento en el Tiempo y Frecuencia\n",
    "$$\n",
    "\\large \\mathcal{F}[x[n-n_0]] = e^{-j\\Omega n_0}\\cdot X(e^{j\\Omega})\n",
    "$$\n",
    "\n",
    "$$\n",
    "\\large \\mathcal{F}[x[n]\\cdot e^{j\\Omega_0 n}] = X(e^{j(\\Omega - \\Omega_0 )})\n",
    "$$\n",
    "## Conjugacion y Simetria Conjugada\n",
    "$$\n",
    "\\large \\mathcal{F}[x*[n]] = X*(e^{-j\\Omega})\n",
    "$$\n",
    "Si x[n] es Real: $X(e^{j\\Omega}) = X*(e^{-j\\Omega})$\n",
    "\n",
    "## Diferenciacion y Acumulacion\n",
    "$$\n",
    "\\large \\mathcal{F}[x[n]-x[n-1]] = (1-e^{j\\Omega})\\cdot X(e^{j\\Omega})\n",
    "$$\n",
    "\n",
    "$$\n",
    "\\large \\mathcal{F}\\left[\\sum_{m=-\\infty}^n x[m]\\right] = \\frac{1}{1-e^{-j\\Omega}}\\cdot X(e^{j\\Omega}) + \\pi X(e^{j 0})\\sum_{k=-\\infty}^{+\\infty}\\delta(\\Omega-2\\pi k)\n",
    "$$\n",
    "\n",
    "**Ejercicio**\n",
    "\n",
    "¿Cual es la DTFT de $\\mu[n]$?\n",
    "\n",
    "## Inversion en el Tiempo\n",
    "$$\n",
    "\\large \\mathcal{F}[x[-n]] = X(e^{-j\\Omega})\n",
    "$$\n",
    "## Escalamiento de Tiempo\n",
    "Si $\\large x_{(k)}[n], \\;con\\;k\\in\\mathbb{N} = \\left\\{\\begin{array}{ll}x[n/k]&&si\\;n\\;es\\;multiplo\\;de\\;k\\\\0&&si\\;n\\;no\\;es\\;multiplo\\;de\\;k\\end{array}\\right.$:\n",
    "\n",
    "$$\n",
    "\\large \\mathcal{F}[x_{(k)}[n]] = X(e^{j k \\Omega})\n",
    "$$\n",
    "\n",
    "\n",
    "## Diferenciacion en Frecuencia\n",
    "$$\n",
    "\\large \\mathcal{F}[n\\cdot x[n]] = j\\frac{dX(e^{j\\Omega})}{d\\Omega}\n",
    "$$\n",
    "## Relacion de Parseval\n",
    "$$\n",
    "\\large \\sum_{n=-\\infty}^{+\\infty} |x[n]|^2 = \\frac{1}{2\\pi}\\int_{2\\pi} |X(e^{j\\Omega})|^2 d\\Omega\n",
    "$$"
   ]
  },
  {
   "cell_type": "markdown",
   "metadata": {},
   "source": [
    "## Convolucion\n",
    "$$\n",
    "\\large y[n] = h[n]*x[n] ~\\Rightarrow~ Y(e^{j\\Omega}) = H(e^{j\\Omega})\\cdot X(e^{j\\Omega})\n",
    "$$\n",
    "\n",
    "Se puede calcular la convolución de dos señales multiplicando sus transformadas de Fourier y luego calculando su antitransformada para obtener la respuesta en el dominio del tiempo"
   ]
  },
  {
   "cell_type": "markdown",
   "metadata": {},
   "source": [
    "## Multiplicacion o Modulacion\n",
    "$$\n",
    "\\large r[n] = s[n]·p[n] ~\\Rightarrow~ R(e^{j\\Omega}) = \\displaystyle \\frac{1}{2\\pi}\\int_{2\\pi} S(e^{j\\theta})·P(e^{j(\\Omega-\\theta)}) ·d\\theta\n",
    "$$"
   ]
  },
  {
   "cell_type": "markdown",
   "metadata": {},
   "source": [
    "# Sistemas Caracterizados por Ecuaciones en Diferencias con Coeficientes Constantes\n",
    "\n",
    "$$\n",
    "\\large \\sum_{k=0}^{N} a_k \\; y[n-k]  = \\sum_{m=0}^{M} b_m \\; x[n-m]\n",
    "$$\n",
    "Si se le aplica la DTFT obtenemos:\n",
    "$$\n",
    "\\large \\sum_{k=0}^{N} a_k \\; e^{-j k \\Omega} Y(e^{j \\Omega})  = \\sum_{m=0}^{M} b_m \\; e^{-j m \\Omega} X(e^{j \\Omega}) \\\\\n",
    "\\large H(e^{j \\Omega})  = \\frac{Y(e^{j \\Omega})}{X(e^{j \\Omega})} = \\frac{\\sum_{m=0}^{M} b_m \\; e^{-j m \\Omega}}{\\sum_{k=0}^{N} a_k \\; e^{-j k \\Omega}}\n",
    "$$\n",
    "## Ejemplo\n",
    "Calcular la $H(e^{j \\Omega})$  y $h[n]$de:\n",
    "\n",
    "$y[n] - ay[n-1] = x[n]$ con $|a|<1$\n",
    "\n",
    "$$\n",
    "H(e^{j \\Omega}) = \\frac{1}{1-a \\cdot e^{-j \\Omega}} \\\\\n",
    "h[n]= a^n \\mu[n]\n",
    "$$\n",
    "\n",
    "## Ejercicio\n",
    "Calcular la $H(e^{j \\Omega})$  y $h[n]$de:\n",
    "\n",
    "$y[n] - \\frac{3}{4}y[n-1] + \\frac{1}{8}y[n-2] = 2 x[n]$\n"
   ]
  },
  {
   "cell_type": "markdown",
   "metadata": {},
   "source": [
    "# Referencia\n",
    "- https://nbviewer.jupyter.org/github/spatialaudio/signals-and-systems-lecture/blob/master/discrete_time_fourier_transform/definition.ipynb\n",
    "- https://nbviewer.jupyter.org/github/spatialaudio/signals-and-systems-lecture/blob/master/discrete_time_fourier_transform/theorems.ipynb\n",
    "- http://19e37.com/wiki/index.php?title=Propiedades_de_la_transformada_de_Fourier_en_tiempo_discreto"
   ]
  },
  {
   "cell_type": "markdown",
   "metadata": {},
   "source": [
    "**Phd. Jose R. Zapata**\n",
    "- [https://joserzapata.github.io/](https://joserzapata.github.io/)\n",
    "- https://twitter.com/joserzapata\n",
    "- joser.zapata@upb.edu.co"
   ]
  }
 ],
 "metadata": {
  "hide_input": false,
  "kernelspec": {
   "display_name": "Python 3",
   "language": "python",
   "name": "python3"
  },
  "language_info": {
   "codemirror_mode": {
    "name": "ipython",
    "version": 3
   },
   "file_extension": ".py",
   "mimetype": "text/x-python",
   "name": "python",
   "nbconvert_exporter": "python",
   "pygments_lexer": "ipython3",
   "version": "3.7.4"
  },
  "toc": {
   "base_numbering": 1,
   "nav_menu": {},
   "number_sections": true,
   "sideBar": true,
   "skip_h1_title": false,
   "title_cell": "Contenido",
   "title_sidebar": "Contenido",
   "toc_cell": true,
   "toc_position": {
    "height": "calc(100% - 180px)",
    "left": "10px",
    "top": "150px",
    "width": "256px"
   },
   "toc_section_display": true,
   "toc_window_display": true
  },
  "varInspector": {
   "cols": {
    "lenName": 16,
    "lenType": 16,
    "lenVar": 40
   },
   "kernels_config": {
    "python": {
     "delete_cmd_postfix": "",
     "delete_cmd_prefix": "del ",
     "library": "var_list.py",
     "varRefreshCmd": "print(var_dic_list())"
    },
    "r": {
     "delete_cmd_postfix": ") ",
     "delete_cmd_prefix": "rm(",
     "library": "var_list.r",
     "varRefreshCmd": "cat(var_dic_list()) "
    }
   },
   "types_to_exclude": [
    "module",
    "function",
    "builtin_function_or_method",
    "instance",
    "_Feature"
   ],
   "window_display": false
  }
 },
 "nbformat": 4,
 "nbformat_minor": 2
}
